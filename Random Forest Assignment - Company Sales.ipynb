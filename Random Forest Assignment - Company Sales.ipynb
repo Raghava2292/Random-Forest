{
 "cells": [
  {
   "cell_type": "code",
   "execution_count": 1,
   "id": "df5081b4",
   "metadata": {
    "ExecuteTime": {
     "end_time": "2023-06-08T07:31:04.794204Z",
     "start_time": "2023-06-08T07:30:39.395238Z"
    }
   },
   "outputs": [],
   "source": [
    "import pandas as pd\n",
    "import matplotlib.pyplot as plt\n",
    "#from sklearn import datasets  \n",
    "import numpy as np\n",
    "from sklearn.model_selection import train_test_split\n",
    "from sklearn.tree import  DecisionTreeClassifier\n",
    "from sklearn.ensemble import RandomForestClassifier\n",
    "from sklearn import tree\n",
    "from sklearn.metrics import classification_report\n",
    "from sklearn import preprocessing  "
   ]
  },
  {
   "cell_type": "code",
   "execution_count": 2,
   "id": "59061ee5",
   "metadata": {
    "ExecuteTime": {
     "end_time": "2023-06-08T07:32:43.367205Z",
     "start_time": "2023-06-08T07:32:43.191093Z"
    }
   },
   "outputs": [
    {
     "data": {
      "text/html": [
       "<div>\n",
       "<style scoped>\n",
       "    .dataframe tbody tr th:only-of-type {\n",
       "        vertical-align: middle;\n",
       "    }\n",
       "\n",
       "    .dataframe tbody tr th {\n",
       "        vertical-align: top;\n",
       "    }\n",
       "\n",
       "    .dataframe thead th {\n",
       "        text-align: right;\n",
       "    }\n",
       "</style>\n",
       "<table border=\"1\" class=\"dataframe\">\n",
       "  <thead>\n",
       "    <tr style=\"text-align: right;\">\n",
       "      <th></th>\n",
       "      <th>Sales</th>\n",
       "      <th>CompPrice</th>\n",
       "      <th>Income</th>\n",
       "      <th>Advertising</th>\n",
       "      <th>Population</th>\n",
       "      <th>Price</th>\n",
       "      <th>ShelveLoc</th>\n",
       "      <th>Age</th>\n",
       "      <th>Education</th>\n",
       "      <th>Urban</th>\n",
       "      <th>US</th>\n",
       "    </tr>\n",
       "  </thead>\n",
       "  <tbody>\n",
       "    <tr>\n",
       "      <th>0</th>\n",
       "      <td>9.50</td>\n",
       "      <td>138</td>\n",
       "      <td>73</td>\n",
       "      <td>11</td>\n",
       "      <td>276</td>\n",
       "      <td>120</td>\n",
       "      <td>Bad</td>\n",
       "      <td>42</td>\n",
       "      <td>17</td>\n",
       "      <td>Yes</td>\n",
       "      <td>Yes</td>\n",
       "    </tr>\n",
       "    <tr>\n",
       "      <th>1</th>\n",
       "      <td>11.22</td>\n",
       "      <td>111</td>\n",
       "      <td>48</td>\n",
       "      <td>16</td>\n",
       "      <td>260</td>\n",
       "      <td>83</td>\n",
       "      <td>Good</td>\n",
       "      <td>65</td>\n",
       "      <td>10</td>\n",
       "      <td>Yes</td>\n",
       "      <td>Yes</td>\n",
       "    </tr>\n",
       "    <tr>\n",
       "      <th>2</th>\n",
       "      <td>10.06</td>\n",
       "      <td>113</td>\n",
       "      <td>35</td>\n",
       "      <td>10</td>\n",
       "      <td>269</td>\n",
       "      <td>80</td>\n",
       "      <td>Medium</td>\n",
       "      <td>59</td>\n",
       "      <td>12</td>\n",
       "      <td>Yes</td>\n",
       "      <td>Yes</td>\n",
       "    </tr>\n",
       "    <tr>\n",
       "      <th>3</th>\n",
       "      <td>7.40</td>\n",
       "      <td>117</td>\n",
       "      <td>100</td>\n",
       "      <td>4</td>\n",
       "      <td>466</td>\n",
       "      <td>97</td>\n",
       "      <td>Medium</td>\n",
       "      <td>55</td>\n",
       "      <td>14</td>\n",
       "      <td>Yes</td>\n",
       "      <td>Yes</td>\n",
       "    </tr>\n",
       "    <tr>\n",
       "      <th>4</th>\n",
       "      <td>4.15</td>\n",
       "      <td>141</td>\n",
       "      <td>64</td>\n",
       "      <td>3</td>\n",
       "      <td>340</td>\n",
       "      <td>128</td>\n",
       "      <td>Bad</td>\n",
       "      <td>38</td>\n",
       "      <td>13</td>\n",
       "      <td>Yes</td>\n",
       "      <td>No</td>\n",
       "    </tr>\n",
       "    <tr>\n",
       "      <th>...</th>\n",
       "      <td>...</td>\n",
       "      <td>...</td>\n",
       "      <td>...</td>\n",
       "      <td>...</td>\n",
       "      <td>...</td>\n",
       "      <td>...</td>\n",
       "      <td>...</td>\n",
       "      <td>...</td>\n",
       "      <td>...</td>\n",
       "      <td>...</td>\n",
       "      <td>...</td>\n",
       "    </tr>\n",
       "    <tr>\n",
       "      <th>395</th>\n",
       "      <td>12.57</td>\n",
       "      <td>138</td>\n",
       "      <td>108</td>\n",
       "      <td>17</td>\n",
       "      <td>203</td>\n",
       "      <td>128</td>\n",
       "      <td>Good</td>\n",
       "      <td>33</td>\n",
       "      <td>14</td>\n",
       "      <td>Yes</td>\n",
       "      <td>Yes</td>\n",
       "    </tr>\n",
       "    <tr>\n",
       "      <th>396</th>\n",
       "      <td>6.14</td>\n",
       "      <td>139</td>\n",
       "      <td>23</td>\n",
       "      <td>3</td>\n",
       "      <td>37</td>\n",
       "      <td>120</td>\n",
       "      <td>Medium</td>\n",
       "      <td>55</td>\n",
       "      <td>11</td>\n",
       "      <td>No</td>\n",
       "      <td>Yes</td>\n",
       "    </tr>\n",
       "    <tr>\n",
       "      <th>397</th>\n",
       "      <td>7.41</td>\n",
       "      <td>162</td>\n",
       "      <td>26</td>\n",
       "      <td>12</td>\n",
       "      <td>368</td>\n",
       "      <td>159</td>\n",
       "      <td>Medium</td>\n",
       "      <td>40</td>\n",
       "      <td>18</td>\n",
       "      <td>Yes</td>\n",
       "      <td>Yes</td>\n",
       "    </tr>\n",
       "    <tr>\n",
       "      <th>398</th>\n",
       "      <td>5.94</td>\n",
       "      <td>100</td>\n",
       "      <td>79</td>\n",
       "      <td>7</td>\n",
       "      <td>284</td>\n",
       "      <td>95</td>\n",
       "      <td>Bad</td>\n",
       "      <td>50</td>\n",
       "      <td>12</td>\n",
       "      <td>Yes</td>\n",
       "      <td>Yes</td>\n",
       "    </tr>\n",
       "    <tr>\n",
       "      <th>399</th>\n",
       "      <td>9.71</td>\n",
       "      <td>134</td>\n",
       "      <td>37</td>\n",
       "      <td>0</td>\n",
       "      <td>27</td>\n",
       "      <td>120</td>\n",
       "      <td>Good</td>\n",
       "      <td>49</td>\n",
       "      <td>16</td>\n",
       "      <td>Yes</td>\n",
       "      <td>Yes</td>\n",
       "    </tr>\n",
       "  </tbody>\n",
       "</table>\n",
       "<p>400 rows × 11 columns</p>\n",
       "</div>"
      ],
      "text/plain": [
       "     Sales  CompPrice  Income  Advertising  Population  Price ShelveLoc  Age  \\\n",
       "0     9.50        138      73           11         276    120       Bad   42   \n",
       "1    11.22        111      48           16         260     83      Good   65   \n",
       "2    10.06        113      35           10         269     80    Medium   59   \n",
       "3     7.40        117     100            4         466     97    Medium   55   \n",
       "4     4.15        141      64            3         340    128       Bad   38   \n",
       "..     ...        ...     ...          ...         ...    ...       ...  ...   \n",
       "395  12.57        138     108           17         203    128      Good   33   \n",
       "396   6.14        139      23            3          37    120    Medium   55   \n",
       "397   7.41        162      26           12         368    159    Medium   40   \n",
       "398   5.94        100      79            7         284     95       Bad   50   \n",
       "399   9.71        134      37            0          27    120      Good   49   \n",
       "\n",
       "     Education Urban   US  \n",
       "0           17   Yes  Yes  \n",
       "1           10   Yes  Yes  \n",
       "2           12   Yes  Yes  \n",
       "3           14   Yes  Yes  \n",
       "4           13   Yes   No  \n",
       "..         ...   ...  ...  \n",
       "395         14   Yes  Yes  \n",
       "396         11    No  Yes  \n",
       "397         18   Yes  Yes  \n",
       "398         12   Yes  Yes  \n",
       "399         16   Yes  Yes  \n",
       "\n",
       "[400 rows x 11 columns]"
      ]
     },
     "execution_count": 2,
     "metadata": {},
     "output_type": "execute_result"
    }
   ],
   "source": [
    "data = pd.read_csv('Company_Data.csv')\n",
    "data"
   ]
  },
  {
   "cell_type": "code",
   "execution_count": 3,
   "id": "ae3aaad6",
   "metadata": {
    "ExecuteTime": {
     "end_time": "2023-06-08T07:32:44.584003Z",
     "start_time": "2023-06-08T07:32:44.529521Z"
    }
   },
   "outputs": [
    {
     "data": {
      "text/plain": [
       "array(['Bad', 'Good', 'Medium'], dtype=object)"
      ]
     },
     "execution_count": 3,
     "metadata": {},
     "output_type": "execute_result"
    }
   ],
   "source": [
    "data['ShelveLoc'].unique()"
   ]
  },
  {
   "cell_type": "code",
   "execution_count": 4,
   "id": "ecf0be24",
   "metadata": {
    "ExecuteTime": {
     "end_time": "2023-06-08T07:32:46.528997Z",
     "start_time": "2023-06-08T07:32:46.511046Z"
    }
   },
   "outputs": [
    {
     "data": {
      "text/plain": [
       "array(['Yes', 'No'], dtype=object)"
      ]
     },
     "execution_count": 4,
     "metadata": {},
     "output_type": "execute_result"
    }
   ],
   "source": [
    "data['Urban'].unique()"
   ]
  },
  {
   "cell_type": "code",
   "execution_count": 5,
   "id": "fdf626de",
   "metadata": {
    "ExecuteTime": {
     "end_time": "2023-06-08T07:32:47.026856Z",
     "start_time": "2023-06-08T07:32:47.007872Z"
    }
   },
   "outputs": [
    {
     "data": {
      "text/plain": [
       "array(['Yes', 'No'], dtype=object)"
      ]
     },
     "execution_count": 5,
     "metadata": {},
     "output_type": "execute_result"
    }
   ],
   "source": [
    "data['US'].unique()"
   ]
  },
  {
   "cell_type": "code",
   "execution_count": 6,
   "id": "c922eb29",
   "metadata": {
    "ExecuteTime": {
     "end_time": "2023-06-08T07:32:48.085722Z",
     "start_time": "2023-06-08T07:32:48.063810Z"
    }
   },
   "outputs": [],
   "source": [
    "data = pd.get_dummies(data)"
   ]
  },
  {
   "cell_type": "code",
   "execution_count": 7,
   "id": "85c4c88c",
   "metadata": {
    "ExecuteTime": {
     "end_time": "2023-06-08T07:32:49.003005Z",
     "start_time": "2023-06-08T07:32:48.976058Z"
    }
   },
   "outputs": [
    {
     "data": {
      "text/html": [
       "<div>\n",
       "<style scoped>\n",
       "    .dataframe tbody tr th:only-of-type {\n",
       "        vertical-align: middle;\n",
       "    }\n",
       "\n",
       "    .dataframe tbody tr th {\n",
       "        vertical-align: top;\n",
       "    }\n",
       "\n",
       "    .dataframe thead th {\n",
       "        text-align: right;\n",
       "    }\n",
       "</style>\n",
       "<table border=\"1\" class=\"dataframe\">\n",
       "  <thead>\n",
       "    <tr style=\"text-align: right;\">\n",
       "      <th></th>\n",
       "      <th>Sales</th>\n",
       "      <th>CompPrice</th>\n",
       "      <th>Income</th>\n",
       "      <th>Advertising</th>\n",
       "      <th>Population</th>\n",
       "      <th>Price</th>\n",
       "      <th>Age</th>\n",
       "      <th>Education</th>\n",
       "      <th>ShelveLoc_Bad</th>\n",
       "      <th>ShelveLoc_Good</th>\n",
       "      <th>ShelveLoc_Medium</th>\n",
       "      <th>Urban_No</th>\n",
       "      <th>Urban_Yes</th>\n",
       "      <th>US_No</th>\n",
       "      <th>US_Yes</th>\n",
       "    </tr>\n",
       "  </thead>\n",
       "  <tbody>\n",
       "    <tr>\n",
       "      <th>0</th>\n",
       "      <td>9.50</td>\n",
       "      <td>138</td>\n",
       "      <td>73</td>\n",
       "      <td>11</td>\n",
       "      <td>276</td>\n",
       "      <td>120</td>\n",
       "      <td>42</td>\n",
       "      <td>17</td>\n",
       "      <td>1</td>\n",
       "      <td>0</td>\n",
       "      <td>0</td>\n",
       "      <td>0</td>\n",
       "      <td>1</td>\n",
       "      <td>0</td>\n",
       "      <td>1</td>\n",
       "    </tr>\n",
       "    <tr>\n",
       "      <th>1</th>\n",
       "      <td>11.22</td>\n",
       "      <td>111</td>\n",
       "      <td>48</td>\n",
       "      <td>16</td>\n",
       "      <td>260</td>\n",
       "      <td>83</td>\n",
       "      <td>65</td>\n",
       "      <td>10</td>\n",
       "      <td>0</td>\n",
       "      <td>1</td>\n",
       "      <td>0</td>\n",
       "      <td>0</td>\n",
       "      <td>1</td>\n",
       "      <td>0</td>\n",
       "      <td>1</td>\n",
       "    </tr>\n",
       "    <tr>\n",
       "      <th>2</th>\n",
       "      <td>10.06</td>\n",
       "      <td>113</td>\n",
       "      <td>35</td>\n",
       "      <td>10</td>\n",
       "      <td>269</td>\n",
       "      <td>80</td>\n",
       "      <td>59</td>\n",
       "      <td>12</td>\n",
       "      <td>0</td>\n",
       "      <td>0</td>\n",
       "      <td>1</td>\n",
       "      <td>0</td>\n",
       "      <td>1</td>\n",
       "      <td>0</td>\n",
       "      <td>1</td>\n",
       "    </tr>\n",
       "    <tr>\n",
       "      <th>3</th>\n",
       "      <td>7.40</td>\n",
       "      <td>117</td>\n",
       "      <td>100</td>\n",
       "      <td>4</td>\n",
       "      <td>466</td>\n",
       "      <td>97</td>\n",
       "      <td>55</td>\n",
       "      <td>14</td>\n",
       "      <td>0</td>\n",
       "      <td>0</td>\n",
       "      <td>1</td>\n",
       "      <td>0</td>\n",
       "      <td>1</td>\n",
       "      <td>0</td>\n",
       "      <td>1</td>\n",
       "    </tr>\n",
       "    <tr>\n",
       "      <th>4</th>\n",
       "      <td>4.15</td>\n",
       "      <td>141</td>\n",
       "      <td>64</td>\n",
       "      <td>3</td>\n",
       "      <td>340</td>\n",
       "      <td>128</td>\n",
       "      <td>38</td>\n",
       "      <td>13</td>\n",
       "      <td>1</td>\n",
       "      <td>0</td>\n",
       "      <td>0</td>\n",
       "      <td>0</td>\n",
       "      <td>1</td>\n",
       "      <td>1</td>\n",
       "      <td>0</td>\n",
       "    </tr>\n",
       "    <tr>\n",
       "      <th>...</th>\n",
       "      <td>...</td>\n",
       "      <td>...</td>\n",
       "      <td>...</td>\n",
       "      <td>...</td>\n",
       "      <td>...</td>\n",
       "      <td>...</td>\n",
       "      <td>...</td>\n",
       "      <td>...</td>\n",
       "      <td>...</td>\n",
       "      <td>...</td>\n",
       "      <td>...</td>\n",
       "      <td>...</td>\n",
       "      <td>...</td>\n",
       "      <td>...</td>\n",
       "      <td>...</td>\n",
       "    </tr>\n",
       "    <tr>\n",
       "      <th>395</th>\n",
       "      <td>12.57</td>\n",
       "      <td>138</td>\n",
       "      <td>108</td>\n",
       "      <td>17</td>\n",
       "      <td>203</td>\n",
       "      <td>128</td>\n",
       "      <td>33</td>\n",
       "      <td>14</td>\n",
       "      <td>0</td>\n",
       "      <td>1</td>\n",
       "      <td>0</td>\n",
       "      <td>0</td>\n",
       "      <td>1</td>\n",
       "      <td>0</td>\n",
       "      <td>1</td>\n",
       "    </tr>\n",
       "    <tr>\n",
       "      <th>396</th>\n",
       "      <td>6.14</td>\n",
       "      <td>139</td>\n",
       "      <td>23</td>\n",
       "      <td>3</td>\n",
       "      <td>37</td>\n",
       "      <td>120</td>\n",
       "      <td>55</td>\n",
       "      <td>11</td>\n",
       "      <td>0</td>\n",
       "      <td>0</td>\n",
       "      <td>1</td>\n",
       "      <td>1</td>\n",
       "      <td>0</td>\n",
       "      <td>0</td>\n",
       "      <td>1</td>\n",
       "    </tr>\n",
       "    <tr>\n",
       "      <th>397</th>\n",
       "      <td>7.41</td>\n",
       "      <td>162</td>\n",
       "      <td>26</td>\n",
       "      <td>12</td>\n",
       "      <td>368</td>\n",
       "      <td>159</td>\n",
       "      <td>40</td>\n",
       "      <td>18</td>\n",
       "      <td>0</td>\n",
       "      <td>0</td>\n",
       "      <td>1</td>\n",
       "      <td>0</td>\n",
       "      <td>1</td>\n",
       "      <td>0</td>\n",
       "      <td>1</td>\n",
       "    </tr>\n",
       "    <tr>\n",
       "      <th>398</th>\n",
       "      <td>5.94</td>\n",
       "      <td>100</td>\n",
       "      <td>79</td>\n",
       "      <td>7</td>\n",
       "      <td>284</td>\n",
       "      <td>95</td>\n",
       "      <td>50</td>\n",
       "      <td>12</td>\n",
       "      <td>1</td>\n",
       "      <td>0</td>\n",
       "      <td>0</td>\n",
       "      <td>0</td>\n",
       "      <td>1</td>\n",
       "      <td>0</td>\n",
       "      <td>1</td>\n",
       "    </tr>\n",
       "    <tr>\n",
       "      <th>399</th>\n",
       "      <td>9.71</td>\n",
       "      <td>134</td>\n",
       "      <td>37</td>\n",
       "      <td>0</td>\n",
       "      <td>27</td>\n",
       "      <td>120</td>\n",
       "      <td>49</td>\n",
       "      <td>16</td>\n",
       "      <td>0</td>\n",
       "      <td>1</td>\n",
       "      <td>0</td>\n",
       "      <td>0</td>\n",
       "      <td>1</td>\n",
       "      <td>0</td>\n",
       "      <td>1</td>\n",
       "    </tr>\n",
       "  </tbody>\n",
       "</table>\n",
       "<p>400 rows × 15 columns</p>\n",
       "</div>"
      ],
      "text/plain": [
       "     Sales  CompPrice  Income  Advertising  Population  Price  Age  Education  \\\n",
       "0     9.50        138      73           11         276    120   42         17   \n",
       "1    11.22        111      48           16         260     83   65         10   \n",
       "2    10.06        113      35           10         269     80   59         12   \n",
       "3     7.40        117     100            4         466     97   55         14   \n",
       "4     4.15        141      64            3         340    128   38         13   \n",
       "..     ...        ...     ...          ...         ...    ...  ...        ...   \n",
       "395  12.57        138     108           17         203    128   33         14   \n",
       "396   6.14        139      23            3          37    120   55         11   \n",
       "397   7.41        162      26           12         368    159   40         18   \n",
       "398   5.94        100      79            7         284     95   50         12   \n",
       "399   9.71        134      37            0          27    120   49         16   \n",
       "\n",
       "     ShelveLoc_Bad  ShelveLoc_Good  ShelveLoc_Medium  Urban_No  Urban_Yes  \\\n",
       "0                1               0                 0         0          1   \n",
       "1                0               1                 0         0          1   \n",
       "2                0               0                 1         0          1   \n",
       "3                0               0                 1         0          1   \n",
       "4                1               0                 0         0          1   \n",
       "..             ...             ...               ...       ...        ...   \n",
       "395              0               1                 0         0          1   \n",
       "396              0               0                 1         1          0   \n",
       "397              0               0                 1         0          1   \n",
       "398              1               0                 0         0          1   \n",
       "399              0               1                 0         0          1   \n",
       "\n",
       "     US_No  US_Yes  \n",
       "0        0       1  \n",
       "1        0       1  \n",
       "2        0       1  \n",
       "3        0       1  \n",
       "4        1       0  \n",
       "..     ...     ...  \n",
       "395      0       1  \n",
       "396      0       1  \n",
       "397      0       1  \n",
       "398      0       1  \n",
       "399      0       1  \n",
       "\n",
       "[400 rows x 15 columns]"
      ]
     },
     "execution_count": 7,
     "metadata": {},
     "output_type": "execute_result"
    }
   ],
   "source": [
    "data"
   ]
  },
  {
   "cell_type": "code",
   "execution_count": 8,
   "id": "b5e0314b",
   "metadata": {
    "ExecuteTime": {
     "end_time": "2023-06-08T07:32:50.884500Z",
     "start_time": "2023-06-08T07:32:50.871535Z"
    }
   },
   "outputs": [
    {
     "data": {
      "text/plain": [
       "count    400.000000\n",
       "mean       7.496325\n",
       "std        2.824115\n",
       "min        0.000000\n",
       "25%        5.390000\n",
       "50%        7.490000\n",
       "75%        9.320000\n",
       "max       16.270000\n",
       "Name: Sales, dtype: float64"
      ]
     },
     "execution_count": 8,
     "metadata": {},
     "output_type": "execute_result"
    }
   ],
   "source": [
    "data['Sales'].describe()"
   ]
  },
  {
   "cell_type": "markdown",
   "id": "8ae14a5a",
   "metadata": {},
   "source": [
    "##### Mean and Median of the Sales column is 7.49. So since the required predictions are either high sales or low sales, values higher than the mean will be high sales and the rest will be low sales"
   ]
  },
  {
   "cell_type": "code",
   "execution_count": 9,
   "id": "e334b993",
   "metadata": {
    "ExecuteTime": {
     "end_time": "2023-06-08T07:32:55.470696Z",
     "start_time": "2023-06-08T07:32:55.454705Z"
    }
   },
   "outputs": [],
   "source": [
    "data['Sales'] = ['High Sales' if data['Sales'].iloc[i] >= 7.49 else 'Low Sales' for i in range(0, (data.shape)[0])]"
   ]
  },
  {
   "cell_type": "code",
   "execution_count": 10,
   "id": "f93fe9ba",
   "metadata": {
    "ExecuteTime": {
     "end_time": "2023-06-08T07:32:57.278145Z",
     "start_time": "2023-06-08T07:32:57.256183Z"
    },
    "scrolled": true
   },
   "outputs": [
    {
     "data": {
      "text/html": [
       "<div>\n",
       "<style scoped>\n",
       "    .dataframe tbody tr th:only-of-type {\n",
       "        vertical-align: middle;\n",
       "    }\n",
       "\n",
       "    .dataframe tbody tr th {\n",
       "        vertical-align: top;\n",
       "    }\n",
       "\n",
       "    .dataframe thead th {\n",
       "        text-align: right;\n",
       "    }\n",
       "</style>\n",
       "<table border=\"1\" class=\"dataframe\">\n",
       "  <thead>\n",
       "    <tr style=\"text-align: right;\">\n",
       "      <th></th>\n",
       "      <th>Sales</th>\n",
       "      <th>CompPrice</th>\n",
       "      <th>Income</th>\n",
       "      <th>Advertising</th>\n",
       "      <th>Population</th>\n",
       "      <th>Price</th>\n",
       "      <th>Age</th>\n",
       "      <th>Education</th>\n",
       "      <th>ShelveLoc_Bad</th>\n",
       "      <th>ShelveLoc_Good</th>\n",
       "      <th>ShelveLoc_Medium</th>\n",
       "      <th>Urban_No</th>\n",
       "      <th>Urban_Yes</th>\n",
       "      <th>US_No</th>\n",
       "      <th>US_Yes</th>\n",
       "    </tr>\n",
       "  </thead>\n",
       "  <tbody>\n",
       "    <tr>\n",
       "      <th>0</th>\n",
       "      <td>High Sales</td>\n",
       "      <td>138</td>\n",
       "      <td>73</td>\n",
       "      <td>11</td>\n",
       "      <td>276</td>\n",
       "      <td>120</td>\n",
       "      <td>42</td>\n",
       "      <td>17</td>\n",
       "      <td>1</td>\n",
       "      <td>0</td>\n",
       "      <td>0</td>\n",
       "      <td>0</td>\n",
       "      <td>1</td>\n",
       "      <td>0</td>\n",
       "      <td>1</td>\n",
       "    </tr>\n",
       "    <tr>\n",
       "      <th>1</th>\n",
       "      <td>High Sales</td>\n",
       "      <td>111</td>\n",
       "      <td>48</td>\n",
       "      <td>16</td>\n",
       "      <td>260</td>\n",
       "      <td>83</td>\n",
       "      <td>65</td>\n",
       "      <td>10</td>\n",
       "      <td>0</td>\n",
       "      <td>1</td>\n",
       "      <td>0</td>\n",
       "      <td>0</td>\n",
       "      <td>1</td>\n",
       "      <td>0</td>\n",
       "      <td>1</td>\n",
       "    </tr>\n",
       "    <tr>\n",
       "      <th>2</th>\n",
       "      <td>High Sales</td>\n",
       "      <td>113</td>\n",
       "      <td>35</td>\n",
       "      <td>10</td>\n",
       "      <td>269</td>\n",
       "      <td>80</td>\n",
       "      <td>59</td>\n",
       "      <td>12</td>\n",
       "      <td>0</td>\n",
       "      <td>0</td>\n",
       "      <td>1</td>\n",
       "      <td>0</td>\n",
       "      <td>1</td>\n",
       "      <td>0</td>\n",
       "      <td>1</td>\n",
       "    </tr>\n",
       "    <tr>\n",
       "      <th>3</th>\n",
       "      <td>Low Sales</td>\n",
       "      <td>117</td>\n",
       "      <td>100</td>\n",
       "      <td>4</td>\n",
       "      <td>466</td>\n",
       "      <td>97</td>\n",
       "      <td>55</td>\n",
       "      <td>14</td>\n",
       "      <td>0</td>\n",
       "      <td>0</td>\n",
       "      <td>1</td>\n",
       "      <td>0</td>\n",
       "      <td>1</td>\n",
       "      <td>0</td>\n",
       "      <td>1</td>\n",
       "    </tr>\n",
       "    <tr>\n",
       "      <th>4</th>\n",
       "      <td>Low Sales</td>\n",
       "      <td>141</td>\n",
       "      <td>64</td>\n",
       "      <td>3</td>\n",
       "      <td>340</td>\n",
       "      <td>128</td>\n",
       "      <td>38</td>\n",
       "      <td>13</td>\n",
       "      <td>1</td>\n",
       "      <td>0</td>\n",
       "      <td>0</td>\n",
       "      <td>0</td>\n",
       "      <td>1</td>\n",
       "      <td>1</td>\n",
       "      <td>0</td>\n",
       "    </tr>\n",
       "    <tr>\n",
       "      <th>...</th>\n",
       "      <td>...</td>\n",
       "      <td>...</td>\n",
       "      <td>...</td>\n",
       "      <td>...</td>\n",
       "      <td>...</td>\n",
       "      <td>...</td>\n",
       "      <td>...</td>\n",
       "      <td>...</td>\n",
       "      <td>...</td>\n",
       "      <td>...</td>\n",
       "      <td>...</td>\n",
       "      <td>...</td>\n",
       "      <td>...</td>\n",
       "      <td>...</td>\n",
       "      <td>...</td>\n",
       "    </tr>\n",
       "    <tr>\n",
       "      <th>395</th>\n",
       "      <td>High Sales</td>\n",
       "      <td>138</td>\n",
       "      <td>108</td>\n",
       "      <td>17</td>\n",
       "      <td>203</td>\n",
       "      <td>128</td>\n",
       "      <td>33</td>\n",
       "      <td>14</td>\n",
       "      <td>0</td>\n",
       "      <td>1</td>\n",
       "      <td>0</td>\n",
       "      <td>0</td>\n",
       "      <td>1</td>\n",
       "      <td>0</td>\n",
       "      <td>1</td>\n",
       "    </tr>\n",
       "    <tr>\n",
       "      <th>396</th>\n",
       "      <td>Low Sales</td>\n",
       "      <td>139</td>\n",
       "      <td>23</td>\n",
       "      <td>3</td>\n",
       "      <td>37</td>\n",
       "      <td>120</td>\n",
       "      <td>55</td>\n",
       "      <td>11</td>\n",
       "      <td>0</td>\n",
       "      <td>0</td>\n",
       "      <td>1</td>\n",
       "      <td>1</td>\n",
       "      <td>0</td>\n",
       "      <td>0</td>\n",
       "      <td>1</td>\n",
       "    </tr>\n",
       "    <tr>\n",
       "      <th>397</th>\n",
       "      <td>Low Sales</td>\n",
       "      <td>162</td>\n",
       "      <td>26</td>\n",
       "      <td>12</td>\n",
       "      <td>368</td>\n",
       "      <td>159</td>\n",
       "      <td>40</td>\n",
       "      <td>18</td>\n",
       "      <td>0</td>\n",
       "      <td>0</td>\n",
       "      <td>1</td>\n",
       "      <td>0</td>\n",
       "      <td>1</td>\n",
       "      <td>0</td>\n",
       "      <td>1</td>\n",
       "    </tr>\n",
       "    <tr>\n",
       "      <th>398</th>\n",
       "      <td>Low Sales</td>\n",
       "      <td>100</td>\n",
       "      <td>79</td>\n",
       "      <td>7</td>\n",
       "      <td>284</td>\n",
       "      <td>95</td>\n",
       "      <td>50</td>\n",
       "      <td>12</td>\n",
       "      <td>1</td>\n",
       "      <td>0</td>\n",
       "      <td>0</td>\n",
       "      <td>0</td>\n",
       "      <td>1</td>\n",
       "      <td>0</td>\n",
       "      <td>1</td>\n",
       "    </tr>\n",
       "    <tr>\n",
       "      <th>399</th>\n",
       "      <td>High Sales</td>\n",
       "      <td>134</td>\n",
       "      <td>37</td>\n",
       "      <td>0</td>\n",
       "      <td>27</td>\n",
       "      <td>120</td>\n",
       "      <td>49</td>\n",
       "      <td>16</td>\n",
       "      <td>0</td>\n",
       "      <td>1</td>\n",
       "      <td>0</td>\n",
       "      <td>0</td>\n",
       "      <td>1</td>\n",
       "      <td>0</td>\n",
       "      <td>1</td>\n",
       "    </tr>\n",
       "  </tbody>\n",
       "</table>\n",
       "<p>400 rows × 15 columns</p>\n",
       "</div>"
      ],
      "text/plain": [
       "          Sales  CompPrice  Income  Advertising  Population  Price  Age  \\\n",
       "0    High Sales        138      73           11         276    120   42   \n",
       "1    High Sales        111      48           16         260     83   65   \n",
       "2    High Sales        113      35           10         269     80   59   \n",
       "3     Low Sales        117     100            4         466     97   55   \n",
       "4     Low Sales        141      64            3         340    128   38   \n",
       "..          ...        ...     ...          ...         ...    ...  ...   \n",
       "395  High Sales        138     108           17         203    128   33   \n",
       "396   Low Sales        139      23            3          37    120   55   \n",
       "397   Low Sales        162      26           12         368    159   40   \n",
       "398   Low Sales        100      79            7         284     95   50   \n",
       "399  High Sales        134      37            0          27    120   49   \n",
       "\n",
       "     Education  ShelveLoc_Bad  ShelveLoc_Good  ShelveLoc_Medium  Urban_No  \\\n",
       "0           17              1               0                 0         0   \n",
       "1           10              0               1                 0         0   \n",
       "2           12              0               0                 1         0   \n",
       "3           14              0               0                 1         0   \n",
       "4           13              1               0                 0         0   \n",
       "..         ...            ...             ...               ...       ...   \n",
       "395         14              0               1                 0         0   \n",
       "396         11              0               0                 1         1   \n",
       "397         18              0               0                 1         0   \n",
       "398         12              1               0                 0         0   \n",
       "399         16              0               1                 0         0   \n",
       "\n",
       "     Urban_Yes  US_No  US_Yes  \n",
       "0            1      0       1  \n",
       "1            1      0       1  \n",
       "2            1      0       1  \n",
       "3            1      0       1  \n",
       "4            1      1       0  \n",
       "..         ...    ...     ...  \n",
       "395          1      0       1  \n",
       "396          0      0       1  \n",
       "397          1      0       1  \n",
       "398          1      0       1  \n",
       "399          1      0       1  \n",
       "\n",
       "[400 rows x 15 columns]"
      ]
     },
     "execution_count": 10,
     "metadata": {},
     "output_type": "execute_result"
    }
   ],
   "source": [
    "data"
   ]
  },
  {
   "cell_type": "code",
   "execution_count": 11,
   "id": "286b4b97",
   "metadata": {
    "ExecuteTime": {
     "end_time": "2023-06-08T07:32:58.262825Z",
     "start_time": "2023-06-08T07:32:58.254846Z"
    }
   },
   "outputs": [],
   "source": [
    "x = data.iloc[:, 1:]\n",
    "y = data.iloc[:, 0]"
   ]
  },
  {
   "cell_type": "code",
   "execution_count": 12,
   "id": "5e3e12c6",
   "metadata": {
    "ExecuteTime": {
     "end_time": "2023-06-08T07:33:00.853766Z",
     "start_time": "2023-06-08T07:33:00.839633Z"
    }
   },
   "outputs": [],
   "source": [
    "# Splitting data into training and testing data set\n",
    "x_train, x_test,y_train,y_test = train_test_split(x,y, test_size=0.2)"
   ]
  },
  {
   "cell_type": "markdown",
   "id": "edeb2639",
   "metadata": {},
   "source": [
    "## Random Forest Model|"
   ]
  },
  {
   "cell_type": "markdown",
   "id": "f4bf090e",
   "metadata": {},
   "source": [
    "### Criterion: Entropy"
   ]
  },
  {
   "cell_type": "code",
   "execution_count": 13,
   "id": "a19342e9",
   "metadata": {
    "ExecuteTime": {
     "end_time": "2023-06-08T07:33:46.098028Z",
     "start_time": "2023-06-08T07:33:44.585813Z"
    }
   },
   "outputs": [
    {
     "data": {
      "text/html": [
       "<style>#sk-container-id-1 {color: black;background-color: white;}#sk-container-id-1 pre{padding: 0;}#sk-container-id-1 div.sk-toggleable {background-color: white;}#sk-container-id-1 label.sk-toggleable__label {cursor: pointer;display: block;width: 100%;margin-bottom: 0;padding: 0.3em;box-sizing: border-box;text-align: center;}#sk-container-id-1 label.sk-toggleable__label-arrow:before {content: \"▸\";float: left;margin-right: 0.25em;color: #696969;}#sk-container-id-1 label.sk-toggleable__label-arrow:hover:before {color: black;}#sk-container-id-1 div.sk-estimator:hover label.sk-toggleable__label-arrow:before {color: black;}#sk-container-id-1 div.sk-toggleable__content {max-height: 0;max-width: 0;overflow: hidden;text-align: left;background-color: #f0f8ff;}#sk-container-id-1 div.sk-toggleable__content pre {margin: 0.2em;color: black;border-radius: 0.25em;background-color: #f0f8ff;}#sk-container-id-1 input.sk-toggleable__control:checked~div.sk-toggleable__content {max-height: 200px;max-width: 100%;overflow: auto;}#sk-container-id-1 input.sk-toggleable__control:checked~label.sk-toggleable__label-arrow:before {content: \"▾\";}#sk-container-id-1 div.sk-estimator input.sk-toggleable__control:checked~label.sk-toggleable__label {background-color: #d4ebff;}#sk-container-id-1 div.sk-label input.sk-toggleable__control:checked~label.sk-toggleable__label {background-color: #d4ebff;}#sk-container-id-1 input.sk-hidden--visually {border: 0;clip: rect(1px 1px 1px 1px);clip: rect(1px, 1px, 1px, 1px);height: 1px;margin: -1px;overflow: hidden;padding: 0;position: absolute;width: 1px;}#sk-container-id-1 div.sk-estimator {font-family: monospace;background-color: #f0f8ff;border: 1px dotted black;border-radius: 0.25em;box-sizing: border-box;margin-bottom: 0.5em;}#sk-container-id-1 div.sk-estimator:hover {background-color: #d4ebff;}#sk-container-id-1 div.sk-parallel-item::after {content: \"\";width: 100%;border-bottom: 1px solid gray;flex-grow: 1;}#sk-container-id-1 div.sk-label:hover label.sk-toggleable__label {background-color: #d4ebff;}#sk-container-id-1 div.sk-serial::before {content: \"\";position: absolute;border-left: 1px solid gray;box-sizing: border-box;top: 0;bottom: 0;left: 50%;z-index: 0;}#sk-container-id-1 div.sk-serial {display: flex;flex-direction: column;align-items: center;background-color: white;padding-right: 0.2em;padding-left: 0.2em;position: relative;}#sk-container-id-1 div.sk-item {position: relative;z-index: 1;}#sk-container-id-1 div.sk-parallel {display: flex;align-items: stretch;justify-content: center;background-color: white;position: relative;}#sk-container-id-1 div.sk-item::before, #sk-container-id-1 div.sk-parallel-item::before {content: \"\";position: absolute;border-left: 1px solid gray;box-sizing: border-box;top: 0;bottom: 0;left: 50%;z-index: -1;}#sk-container-id-1 div.sk-parallel-item {display: flex;flex-direction: column;z-index: 1;position: relative;background-color: white;}#sk-container-id-1 div.sk-parallel-item:first-child::after {align-self: flex-end;width: 50%;}#sk-container-id-1 div.sk-parallel-item:last-child::after {align-self: flex-start;width: 50%;}#sk-container-id-1 div.sk-parallel-item:only-child::after {width: 0;}#sk-container-id-1 div.sk-dashed-wrapped {border: 1px dashed gray;margin: 0 0.4em 0.5em 0.4em;box-sizing: border-box;padding-bottom: 0.4em;background-color: white;}#sk-container-id-1 div.sk-label label {font-family: monospace;font-weight: bold;display: inline-block;line-height: 1.2em;}#sk-container-id-1 div.sk-label-container {text-align: center;}#sk-container-id-1 div.sk-container {/* jupyter's `normalize.less` sets `[hidden] { display: none; }` but bootstrap.min.css set `[hidden] { display: none !important; }` so we also need the `!important` here to be able to override the default hidden behavior on the sphinx rendered scikit-learn.org. See: https://github.com/scikit-learn/scikit-learn/issues/21755 */display: inline-block !important;position: relative;}#sk-container-id-1 div.sk-text-repr-fallback {display: none;}</style><div id=\"sk-container-id-1\" class=\"sk-top-container\"><div class=\"sk-text-repr-fallback\"><pre>RandomForestClassifier(criterion=&#x27;entropy&#x27;, max_features=10, n_estimators=500)</pre><b>In a Jupyter environment, please rerun this cell to show the HTML representation or trust the notebook. <br />On GitHub, the HTML representation is unable to render, please try loading this page with nbviewer.org.</b></div><div class=\"sk-container\" hidden><div class=\"sk-item\"><div class=\"sk-estimator sk-toggleable\"><input class=\"sk-toggleable__control sk-hidden--visually\" id=\"sk-estimator-id-1\" type=\"checkbox\" checked><label for=\"sk-estimator-id-1\" class=\"sk-toggleable__label sk-toggleable__label-arrow\">RandomForestClassifier</label><div class=\"sk-toggleable__content\"><pre>RandomForestClassifier(criterion=&#x27;entropy&#x27;, max_features=10, n_estimators=500)</pre></div></div></div></div></div>"
      ],
      "text/plain": [
       "RandomForestClassifier(criterion='entropy', max_features=10, n_estimators=500)"
      ]
     },
     "execution_count": 13,
     "metadata": {},
     "output_type": "execute_result"
    }
   ],
   "source": [
    "num_trees = 500\n",
    "max_features = 10\n",
    "model = RandomForestClassifier(n_estimators=num_trees, max_features=max_features, criterion='entropy')\n",
    "model.fit(x_train, y_train)"
   ]
  },
  {
   "cell_type": "code",
   "execution_count": 14,
   "id": "d3f3613b",
   "metadata": {
    "ExecuteTime": {
     "end_time": "2023-06-08T07:33:48.069515Z",
     "start_time": "2023-06-08T07:33:47.895314Z"
    }
   },
   "outputs": [
    {
     "data": {
      "text/plain": [
       "High Sales    41\n",
       "Low Sales     39\n",
       "dtype: int64"
      ]
     },
     "execution_count": 14,
     "metadata": {},
     "output_type": "execute_result"
    }
   ],
   "source": [
    "#Predicting on test data\n",
    "preds = model.predict(x_test) # predicting on test data set \n",
    "pd.Series(preds).value_counts() # getting the count of each category  "
   ]
  },
  {
   "cell_type": "code",
   "execution_count": 15,
   "id": "1b83c468",
   "metadata": {
    "ExecuteTime": {
     "end_time": "2023-06-08T07:33:49.916981Z",
     "start_time": "2023-06-08T07:33:49.903019Z"
    }
   },
   "outputs": [
    {
     "data": {
      "text/plain": [
       "array(['Low Sales', 'High Sales', 'Low Sales', 'Low Sales', 'Low Sales',\n",
       "       'Low Sales', 'Low Sales', 'Low Sales', 'High Sales', 'Low Sales',\n",
       "       'High Sales', 'High Sales', 'Low Sales', 'Low Sales', 'High Sales',\n",
       "       'High Sales', 'Low Sales', 'High Sales', 'High Sales', 'Low Sales',\n",
       "       'High Sales', 'Low Sales', 'High Sales', 'Low Sales', 'Low Sales',\n",
       "       'High Sales', 'Low Sales', 'High Sales', 'High Sales',\n",
       "       'High Sales', 'Low Sales', 'Low Sales', 'High Sales', 'High Sales',\n",
       "       'Low Sales', 'Low Sales', 'High Sales', 'High Sales', 'High Sales',\n",
       "       'Low Sales', 'Low Sales', 'High Sales', 'High Sales', 'Low Sales',\n",
       "       'High Sales', 'High Sales', 'Low Sales', 'Low Sales', 'High Sales',\n",
       "       'Low Sales', 'High Sales', 'High Sales', 'High Sales',\n",
       "       'High Sales', 'Low Sales', 'Low Sales', 'High Sales', 'High Sales',\n",
       "       'High Sales', 'High Sales', 'High Sales', 'High Sales',\n",
       "       'High Sales', 'Low Sales', 'Low Sales', 'Low Sales', 'High Sales',\n",
       "       'Low Sales', 'High Sales', 'Low Sales', 'Low Sales', 'Low Sales',\n",
       "       'High Sales', 'Low Sales', 'Low Sales', 'High Sales', 'High Sales',\n",
       "       'Low Sales', 'High Sales', 'Low Sales'], dtype=object)"
      ]
     },
     "execution_count": 15,
     "metadata": {},
     "output_type": "execute_result"
    }
   ],
   "source": [
    "preds"
   ]
  },
  {
   "cell_type": "code",
   "execution_count": 16,
   "id": "6f012866",
   "metadata": {
    "ExecuteTime": {
     "end_time": "2023-06-08T07:33:51.998852Z",
     "start_time": "2023-06-08T07:33:51.848824Z"
    }
   },
   "outputs": [
    {
     "data": {
      "text/html": [
       "<div>\n",
       "<style scoped>\n",
       "    .dataframe tbody tr th:only-of-type {\n",
       "        vertical-align: middle;\n",
       "    }\n",
       "\n",
       "    .dataframe tbody tr th {\n",
       "        vertical-align: top;\n",
       "    }\n",
       "\n",
       "    .dataframe thead th {\n",
       "        text-align: right;\n",
       "    }\n",
       "</style>\n",
       "<table border=\"1\" class=\"dataframe\">\n",
       "  <thead>\n",
       "    <tr style=\"text-align: right;\">\n",
       "      <th>col_0</th>\n",
       "      <th>High Sales</th>\n",
       "      <th>Low Sales</th>\n",
       "    </tr>\n",
       "    <tr>\n",
       "      <th>Sales</th>\n",
       "      <th></th>\n",
       "      <th></th>\n",
       "    </tr>\n",
       "  </thead>\n",
       "  <tbody>\n",
       "    <tr>\n",
       "      <th>High Sales</th>\n",
       "      <td>33</td>\n",
       "      <td>6</td>\n",
       "    </tr>\n",
       "    <tr>\n",
       "      <th>Low Sales</th>\n",
       "      <td>8</td>\n",
       "      <td>33</td>\n",
       "    </tr>\n",
       "  </tbody>\n",
       "</table>\n",
       "</div>"
      ],
      "text/plain": [
       "col_0       High Sales  Low Sales\n",
       "Sales                            \n",
       "High Sales          33          6\n",
       "Low Sales            8         33"
      ]
     },
     "execution_count": 16,
     "metadata": {},
     "output_type": "execute_result"
    }
   ],
   "source": [
    "pd.crosstab(y_test,preds)  # getting the 2 way table to understand the correct and wrong predictions"
   ]
  },
  {
   "cell_type": "code",
   "execution_count": 17,
   "id": "abf5f8dd",
   "metadata": {
    "ExecuteTime": {
     "end_time": "2023-06-08T07:33:53.871858Z",
     "start_time": "2023-06-08T07:33:53.854773Z"
    }
   },
   "outputs": [
    {
     "data": {
      "text/plain": [
       "0.825"
      ]
     },
     "execution_count": 17,
     "metadata": {},
     "output_type": "execute_result"
    }
   ],
   "source": [
    "# Accuracy \n",
    "np.mean(preds==y_test)"
   ]
  },
  {
   "cell_type": "markdown",
   "id": "bbb26009",
   "metadata": {},
   "source": [
    "### Criterion: GINI"
   ]
  },
  {
   "cell_type": "code",
   "execution_count": 18,
   "id": "56b9972f",
   "metadata": {
    "ExecuteTime": {
     "end_time": "2023-06-08T07:34:18.952740Z",
     "start_time": "2023-06-08T07:34:17.575428Z"
    }
   },
   "outputs": [
    {
     "data": {
      "text/html": [
       "<style>#sk-container-id-2 {color: black;background-color: white;}#sk-container-id-2 pre{padding: 0;}#sk-container-id-2 div.sk-toggleable {background-color: white;}#sk-container-id-2 label.sk-toggleable__label {cursor: pointer;display: block;width: 100%;margin-bottom: 0;padding: 0.3em;box-sizing: border-box;text-align: center;}#sk-container-id-2 label.sk-toggleable__label-arrow:before {content: \"▸\";float: left;margin-right: 0.25em;color: #696969;}#sk-container-id-2 label.sk-toggleable__label-arrow:hover:before {color: black;}#sk-container-id-2 div.sk-estimator:hover label.sk-toggleable__label-arrow:before {color: black;}#sk-container-id-2 div.sk-toggleable__content {max-height: 0;max-width: 0;overflow: hidden;text-align: left;background-color: #f0f8ff;}#sk-container-id-2 div.sk-toggleable__content pre {margin: 0.2em;color: black;border-radius: 0.25em;background-color: #f0f8ff;}#sk-container-id-2 input.sk-toggleable__control:checked~div.sk-toggleable__content {max-height: 200px;max-width: 100%;overflow: auto;}#sk-container-id-2 input.sk-toggleable__control:checked~label.sk-toggleable__label-arrow:before {content: \"▾\";}#sk-container-id-2 div.sk-estimator input.sk-toggleable__control:checked~label.sk-toggleable__label {background-color: #d4ebff;}#sk-container-id-2 div.sk-label input.sk-toggleable__control:checked~label.sk-toggleable__label {background-color: #d4ebff;}#sk-container-id-2 input.sk-hidden--visually {border: 0;clip: rect(1px 1px 1px 1px);clip: rect(1px, 1px, 1px, 1px);height: 1px;margin: -1px;overflow: hidden;padding: 0;position: absolute;width: 1px;}#sk-container-id-2 div.sk-estimator {font-family: monospace;background-color: #f0f8ff;border: 1px dotted black;border-radius: 0.25em;box-sizing: border-box;margin-bottom: 0.5em;}#sk-container-id-2 div.sk-estimator:hover {background-color: #d4ebff;}#sk-container-id-2 div.sk-parallel-item::after {content: \"\";width: 100%;border-bottom: 1px solid gray;flex-grow: 1;}#sk-container-id-2 div.sk-label:hover label.sk-toggleable__label {background-color: #d4ebff;}#sk-container-id-2 div.sk-serial::before {content: \"\";position: absolute;border-left: 1px solid gray;box-sizing: border-box;top: 0;bottom: 0;left: 50%;z-index: 0;}#sk-container-id-2 div.sk-serial {display: flex;flex-direction: column;align-items: center;background-color: white;padding-right: 0.2em;padding-left: 0.2em;position: relative;}#sk-container-id-2 div.sk-item {position: relative;z-index: 1;}#sk-container-id-2 div.sk-parallel {display: flex;align-items: stretch;justify-content: center;background-color: white;position: relative;}#sk-container-id-2 div.sk-item::before, #sk-container-id-2 div.sk-parallel-item::before {content: \"\";position: absolute;border-left: 1px solid gray;box-sizing: border-box;top: 0;bottom: 0;left: 50%;z-index: -1;}#sk-container-id-2 div.sk-parallel-item {display: flex;flex-direction: column;z-index: 1;position: relative;background-color: white;}#sk-container-id-2 div.sk-parallel-item:first-child::after {align-self: flex-end;width: 50%;}#sk-container-id-2 div.sk-parallel-item:last-child::after {align-self: flex-start;width: 50%;}#sk-container-id-2 div.sk-parallel-item:only-child::after {width: 0;}#sk-container-id-2 div.sk-dashed-wrapped {border: 1px dashed gray;margin: 0 0.4em 0.5em 0.4em;box-sizing: border-box;padding-bottom: 0.4em;background-color: white;}#sk-container-id-2 div.sk-label label {font-family: monospace;font-weight: bold;display: inline-block;line-height: 1.2em;}#sk-container-id-2 div.sk-label-container {text-align: center;}#sk-container-id-2 div.sk-container {/* jupyter's `normalize.less` sets `[hidden] { display: none; }` but bootstrap.min.css set `[hidden] { display: none !important; }` so we also need the `!important` here to be able to override the default hidden behavior on the sphinx rendered scikit-learn.org. See: https://github.com/scikit-learn/scikit-learn/issues/21755 */display: inline-block !important;position: relative;}#sk-container-id-2 div.sk-text-repr-fallback {display: none;}</style><div id=\"sk-container-id-2\" class=\"sk-top-container\"><div class=\"sk-text-repr-fallback\"><pre>RandomForestClassifier(max_features=10, n_estimators=500)</pre><b>In a Jupyter environment, please rerun this cell to show the HTML representation or trust the notebook. <br />On GitHub, the HTML representation is unable to render, please try loading this page with nbviewer.org.</b></div><div class=\"sk-container\" hidden><div class=\"sk-item\"><div class=\"sk-estimator sk-toggleable\"><input class=\"sk-toggleable__control sk-hidden--visually\" id=\"sk-estimator-id-2\" type=\"checkbox\" checked><label for=\"sk-estimator-id-2\" class=\"sk-toggleable__label sk-toggleable__label-arrow\">RandomForestClassifier</label><div class=\"sk-toggleable__content\"><pre>RandomForestClassifier(max_features=10, n_estimators=500)</pre></div></div></div></div></div>"
      ],
      "text/plain": [
       "RandomForestClassifier(max_features=10, n_estimators=500)"
      ]
     },
     "execution_count": 18,
     "metadata": {},
     "output_type": "execute_result"
    }
   ],
   "source": [
    "num_trees = 500\n",
    "max_features = 10\n",
    "model = RandomForestClassifier(n_estimators=num_trees, max_features=max_features, criterion='gini')\n",
    "model.fit(x_train, y_train)"
   ]
  },
  {
   "cell_type": "code",
   "execution_count": 19,
   "id": "cddafbe2",
   "metadata": {
    "ExecuteTime": {
     "end_time": "2023-06-08T07:34:28.612545Z",
     "start_time": "2023-06-08T07:34:28.527801Z"
    }
   },
   "outputs": [
    {
     "data": {
      "text/plain": [
       "Low Sales     42\n",
       "High Sales    38\n",
       "dtype: int64"
      ]
     },
     "execution_count": 19,
     "metadata": {},
     "output_type": "execute_result"
    }
   ],
   "source": [
    "#Predicting on test data\n",
    "preds = model.predict(x_test) # predicting on test data set \n",
    "pd.Series(preds).value_counts() # getting the count of each category "
   ]
  },
  {
   "cell_type": "code",
   "execution_count": 20,
   "id": "f62dc92d",
   "metadata": {
    "ExecuteTime": {
     "end_time": "2023-06-08T07:34:34.814941Z",
     "start_time": "2023-06-08T07:34:34.799950Z"
    }
   },
   "outputs": [
    {
     "data": {
      "text/plain": [
       "array(['Low Sales', 'High Sales', 'Low Sales', 'Low Sales', 'Low Sales',\n",
       "       'Low Sales', 'Low Sales', 'Low Sales', 'High Sales', 'Low Sales',\n",
       "       'High Sales', 'High Sales', 'Low Sales', 'Low Sales', 'High Sales',\n",
       "       'High Sales', 'Low Sales', 'High Sales', 'High Sales', 'Low Sales',\n",
       "       'High Sales', 'Low Sales', 'High Sales', 'Low Sales', 'Low Sales',\n",
       "       'High Sales', 'Low Sales', 'High Sales', 'High Sales',\n",
       "       'High Sales', 'Low Sales', 'Low Sales', 'High Sales', 'High Sales',\n",
       "       'Low Sales', 'Low Sales', 'High Sales', 'High Sales', 'High Sales',\n",
       "       'Low Sales', 'Low Sales', 'High Sales', 'High Sales', 'Low Sales',\n",
       "       'Low Sales', 'High Sales', 'Low Sales', 'Low Sales', 'High Sales',\n",
       "       'Low Sales', 'High Sales', 'High Sales', 'High Sales',\n",
       "       'High Sales', 'Low Sales', 'Low Sales', 'High Sales', 'High Sales',\n",
       "       'Low Sales', 'High Sales', 'High Sales', 'Low Sales', 'High Sales',\n",
       "       'Low Sales', 'Low Sales', 'Low Sales', 'High Sales', 'Low Sales',\n",
       "       'High Sales', 'Low Sales', 'Low Sales', 'Low Sales', 'High Sales',\n",
       "       'Low Sales', 'Low Sales', 'High Sales', 'High Sales', 'Low Sales',\n",
       "       'High Sales', 'Low Sales'], dtype=object)"
      ]
     },
     "execution_count": 20,
     "metadata": {},
     "output_type": "execute_result"
    }
   ],
   "source": [
    "preds"
   ]
  },
  {
   "cell_type": "code",
   "execution_count": 21,
   "id": "f073fe8b",
   "metadata": {
    "ExecuteTime": {
     "end_time": "2023-06-08T07:34:40.343275Z",
     "start_time": "2023-06-08T07:34:40.321334Z"
    }
   },
   "outputs": [
    {
     "data": {
      "text/html": [
       "<div>\n",
       "<style scoped>\n",
       "    .dataframe tbody tr th:only-of-type {\n",
       "        vertical-align: middle;\n",
       "    }\n",
       "\n",
       "    .dataframe tbody tr th {\n",
       "        vertical-align: top;\n",
       "    }\n",
       "\n",
       "    .dataframe thead th {\n",
       "        text-align: right;\n",
       "    }\n",
       "</style>\n",
       "<table border=\"1\" class=\"dataframe\">\n",
       "  <thead>\n",
       "    <tr style=\"text-align: right;\">\n",
       "      <th>col_0</th>\n",
       "      <th>High Sales</th>\n",
       "      <th>Low Sales</th>\n",
       "    </tr>\n",
       "    <tr>\n",
       "      <th>Sales</th>\n",
       "      <th></th>\n",
       "      <th></th>\n",
       "    </tr>\n",
       "  </thead>\n",
       "  <tbody>\n",
       "    <tr>\n",
       "      <th>High Sales</th>\n",
       "      <td>32</td>\n",
       "      <td>7</td>\n",
       "    </tr>\n",
       "    <tr>\n",
       "      <th>Low Sales</th>\n",
       "      <td>6</td>\n",
       "      <td>35</td>\n",
       "    </tr>\n",
       "  </tbody>\n",
       "</table>\n",
       "</div>"
      ],
      "text/plain": [
       "col_0       High Sales  Low Sales\n",
       "Sales                            \n",
       "High Sales          32          7\n",
       "Low Sales            6         35"
      ]
     },
     "execution_count": 21,
     "metadata": {},
     "output_type": "execute_result"
    }
   ],
   "source": [
    "pd.crosstab(y_test,preds)  # getting the 2 way table to understand the correct and wrong predictions"
   ]
  },
  {
   "cell_type": "code",
   "execution_count": 22,
   "id": "e051b4da",
   "metadata": {
    "ExecuteTime": {
     "end_time": "2023-06-08T07:34:49.911323Z",
     "start_time": "2023-06-08T07:34:49.903352Z"
    }
   },
   "outputs": [
    {
     "data": {
      "text/plain": [
       "0.8375"
      ]
     },
     "execution_count": 22,
     "metadata": {},
     "output_type": "execute_result"
    }
   ],
   "source": [
    "# Accuracy \n",
    "np.mean(preds==y_test)"
   ]
  },
  {
   "cell_type": "markdown",
   "id": "41a99b3a",
   "metadata": {},
   "source": [
    "----\n",
    "\n",
    "The **gini** criterion gave higher accuracy than the **entropy** criterion"
   ]
  },
  {
   "cell_type": "markdown",
   "id": "49463f4f",
   "metadata": {},
   "source": [
    "## Using the Grid Search for finding the best suitable combination of hyperparameters"
   ]
  },
  {
   "cell_type": "markdown",
   "id": "2deef2dd",
   "metadata": {},
   "source": [
    "---------------\n",
    "\n",
    "The hyperparameters to check for in this case are the number of trees, the criterion, and the maximum number of features."
   ]
  },
  {
   "cell_type": "code",
   "execution_count": 23,
   "id": "c230bc48",
   "metadata": {
    "ExecuteTime": {
     "end_time": "2023-06-08T07:38:50.003368Z",
     "start_time": "2023-06-08T07:38:49.984419Z"
    }
   },
   "outputs": [],
   "source": [
    "from sklearn.model_selection import GridSearchCV, KFold"
   ]
  },
  {
   "cell_type": "code",
   "execution_count": 34,
   "id": "cff71731",
   "metadata": {
    "ExecuteTime": {
     "end_time": "2023-06-08T07:58:32.790714Z",
     "start_time": "2023-06-08T07:55:08.005112Z"
    }
   },
   "outputs": [
    {
     "name": "stdout",
     "output_type": "stream",
     "text": [
      "Fitting 5 folds for each of 60 candidates, totalling 300 fits\n",
      "[CV 1/5; 1/60] START criterion=entropy, max_features=5, n_estimators=100........\n",
      "[CV 1/5; 1/60] END criterion=entropy, max_features=5, n_estimators=100;, score=0.703 total time=   0.1s\n",
      "[CV 2/5; 1/60] START criterion=entropy, max_features=5, n_estimators=100........\n",
      "[CV 2/5; 1/60] END criterion=entropy, max_features=5, n_estimators=100;, score=0.766 total time=   0.1s\n",
      "[CV 3/5; 1/60] START criterion=entropy, max_features=5, n_estimators=100........\n",
      "[CV 3/5; 1/60] END criterion=entropy, max_features=5, n_estimators=100;, score=0.797 total time=   0.1s\n",
      "[CV 4/5; 1/60] START criterion=entropy, max_features=5, n_estimators=100........\n",
      "[CV 4/5; 1/60] END criterion=entropy, max_features=5, n_estimators=100;, score=0.781 total time=   0.1s\n",
      "[CV 5/5; 1/60] START criterion=entropy, max_features=5, n_estimators=100........\n",
      "[CV 5/5; 1/60] END criterion=entropy, max_features=5, n_estimators=100;, score=0.797 total time=   0.1s\n",
      "[CV 1/5; 2/60] START criterion=entropy, max_features=5, n_estimators=200........\n",
      "[CV 1/5; 2/60] END criterion=entropy, max_features=5, n_estimators=200;, score=0.703 total time=   0.4s\n",
      "[CV 2/5; 2/60] START criterion=entropy, max_features=5, n_estimators=200........\n",
      "[CV 2/5; 2/60] END criterion=entropy, max_features=5, n_estimators=200;, score=0.781 total time=   0.3s\n",
      "[CV 3/5; 2/60] START criterion=entropy, max_features=5, n_estimators=200........\n",
      "[CV 3/5; 2/60] END criterion=entropy, max_features=5, n_estimators=200;, score=0.781 total time=   0.3s\n",
      "[CV 4/5; 2/60] START criterion=entropy, max_features=5, n_estimators=200........\n",
      "[CV 4/5; 2/60] END criterion=entropy, max_features=5, n_estimators=200;, score=0.766 total time=   0.4s\n",
      "[CV 5/5; 2/60] START criterion=entropy, max_features=5, n_estimators=200........\n",
      "[CV 5/5; 2/60] END criterion=entropy, max_features=5, n_estimators=200;, score=0.828 total time=   0.3s\n",
      "[CV 1/5; 3/60] START criterion=entropy, max_features=5, n_estimators=300........\n",
      "[CV 1/5; 3/60] END criterion=entropy, max_features=5, n_estimators=300;, score=0.703 total time=   0.5s\n",
      "[CV 2/5; 3/60] START criterion=entropy, max_features=5, n_estimators=300........\n",
      "[CV 2/5; 3/60] END criterion=entropy, max_features=5, n_estimators=300;, score=0.781 total time=   0.5s\n",
      "[CV 3/5; 3/60] START criterion=entropy, max_features=5, n_estimators=300........\n",
      "[CV 3/5; 3/60] END criterion=entropy, max_features=5, n_estimators=300;, score=0.781 total time=   0.5s\n",
      "[CV 4/5; 3/60] START criterion=entropy, max_features=5, n_estimators=300........\n",
      "[CV 4/5; 3/60] END criterion=entropy, max_features=5, n_estimators=300;, score=0.766 total time=   0.5s\n",
      "[CV 5/5; 3/60] START criterion=entropy, max_features=5, n_estimators=300........\n",
      "[CV 5/5; 3/60] END criterion=entropy, max_features=5, n_estimators=300;, score=0.797 total time=   0.5s\n",
      "[CV 1/5; 4/60] START criterion=entropy, max_features=5, n_estimators=400........\n",
      "[CV 1/5; 4/60] END criterion=entropy, max_features=5, n_estimators=400;, score=0.703 total time=   0.7s\n",
      "[CV 2/5; 4/60] START criterion=entropy, max_features=5, n_estimators=400........\n",
      "[CV 2/5; 4/60] END criterion=entropy, max_features=5, n_estimators=400;, score=0.781 total time=   0.7s\n",
      "[CV 3/5; 4/60] START criterion=entropy, max_features=5, n_estimators=400........\n",
      "[CV 3/5; 4/60] END criterion=entropy, max_features=5, n_estimators=400;, score=0.781 total time=   0.7s\n",
      "[CV 4/5; 4/60] START criterion=entropy, max_features=5, n_estimators=400........\n",
      "[CV 4/5; 4/60] END criterion=entropy, max_features=5, n_estimators=400;, score=0.766 total time=   0.7s\n",
      "[CV 5/5; 4/60] START criterion=entropy, max_features=5, n_estimators=400........\n",
      "[CV 5/5; 4/60] END criterion=entropy, max_features=5, n_estimators=400;, score=0.812 total time=   0.7s\n",
      "[CV 1/5; 5/60] START criterion=entropy, max_features=5, n_estimators=500........\n",
      "[CV 1/5; 5/60] END criterion=entropy, max_features=5, n_estimators=500;, score=0.703 total time=   0.9s\n",
      "[CV 2/5; 5/60] START criterion=entropy, max_features=5, n_estimators=500........\n",
      "[CV 2/5; 5/60] END criterion=entropy, max_features=5, n_estimators=500;, score=0.781 total time=   1.0s\n",
      "[CV 3/5; 5/60] START criterion=entropy, max_features=5, n_estimators=500........\n",
      "[CV 3/5; 5/60] END criterion=entropy, max_features=5, n_estimators=500;, score=0.797 total time=   1.1s\n",
      "[CV 4/5; 5/60] START criterion=entropy, max_features=5, n_estimators=500........\n",
      "[CV 4/5; 5/60] END criterion=entropy, max_features=5, n_estimators=500;, score=0.766 total time=   1.1s\n",
      "[CV 5/5; 5/60] START criterion=entropy, max_features=5, n_estimators=500........\n",
      "[CV 5/5; 5/60] END criterion=entropy, max_features=5, n_estimators=500;, score=0.812 total time=   1.1s\n",
      "[CV 1/5; 6/60] START criterion=entropy, max_features=6, n_estimators=100........\n",
      "[CV 1/5; 6/60] END criterion=entropy, max_features=6, n_estimators=100;, score=0.688 total time=   0.1s\n",
      "[CV 2/5; 6/60] START criterion=entropy, max_features=6, n_estimators=100........\n",
      "[CV 2/5; 6/60] END criterion=entropy, max_features=6, n_estimators=100;, score=0.797 total time=   0.1s\n",
      "[CV 3/5; 6/60] START criterion=entropy, max_features=6, n_estimators=100........\n",
      "[CV 3/5; 6/60] END criterion=entropy, max_features=6, n_estimators=100;, score=0.781 total time=   0.1s\n",
      "[CV 4/5; 6/60] START criterion=entropy, max_features=6, n_estimators=100........\n",
      "[CV 4/5; 6/60] END criterion=entropy, max_features=6, n_estimators=100;, score=0.766 total time=   0.1s\n",
      "[CV 5/5; 6/60] START criterion=entropy, max_features=6, n_estimators=100........\n",
      "[CV 5/5; 6/60] END criterion=entropy, max_features=6, n_estimators=100;, score=0.797 total time=   0.1s\n",
      "[CV 1/5; 7/60] START criterion=entropy, max_features=6, n_estimators=200........\n",
      "[CV 1/5; 7/60] END criterion=entropy, max_features=6, n_estimators=200;, score=0.688 total time=   0.3s\n",
      "[CV 2/5; 7/60] START criterion=entropy, max_features=6, n_estimators=200........\n",
      "[CV 2/5; 7/60] END criterion=entropy, max_features=6, n_estimators=200;, score=0.781 total time=   0.3s\n",
      "[CV 3/5; 7/60] START criterion=entropy, max_features=6, n_estimators=200........\n",
      "[CV 3/5; 7/60] END criterion=entropy, max_features=6, n_estimators=200;, score=0.781 total time=   0.3s\n",
      "[CV 4/5; 7/60] START criterion=entropy, max_features=6, n_estimators=200........\n",
      "[CV 4/5; 7/60] END criterion=entropy, max_features=6, n_estimators=200;, score=0.766 total time=   0.3s\n",
      "[CV 5/5; 7/60] START criterion=entropy, max_features=6, n_estimators=200........\n",
      "[CV 5/5; 7/60] END criterion=entropy, max_features=6, n_estimators=200;, score=0.797 total time=   0.3s\n",
      "[CV 1/5; 8/60] START criterion=entropy, max_features=6, n_estimators=300........\n",
      "[CV 1/5; 8/60] END criterion=entropy, max_features=6, n_estimators=300;, score=0.672 total time=   0.5s\n",
      "[CV 2/5; 8/60] START criterion=entropy, max_features=6, n_estimators=300........\n",
      "[CV 2/5; 8/60] END criterion=entropy, max_features=6, n_estimators=300;, score=0.797 total time=   0.5s\n",
      "[CV 3/5; 8/60] START criterion=entropy, max_features=6, n_estimators=300........\n",
      "[CV 3/5; 8/60] END criterion=entropy, max_features=6, n_estimators=300;, score=0.781 total time=   0.5s\n",
      "[CV 4/5; 8/60] START criterion=entropy, max_features=6, n_estimators=300........\n",
      "[CV 4/5; 8/60] END criterion=entropy, max_features=6, n_estimators=300;, score=0.781 total time=   0.6s\n",
      "[CV 5/5; 8/60] START criterion=entropy, max_features=6, n_estimators=300........\n",
      "[CV 5/5; 8/60] END criterion=entropy, max_features=6, n_estimators=300;, score=0.797 total time=   0.7s\n",
      "[CV 1/5; 9/60] START criterion=entropy, max_features=6, n_estimators=400........\n",
      "[CV 1/5; 9/60] END criterion=entropy, max_features=6, n_estimators=400;, score=0.672 total time=   0.9s\n",
      "[CV 2/5; 9/60] START criterion=entropy, max_features=6, n_estimators=400........\n",
      "[CV 2/5; 9/60] END criterion=entropy, max_features=6, n_estimators=400;, score=0.797 total time=   0.8s\n",
      "[CV 3/5; 9/60] START criterion=entropy, max_features=6, n_estimators=400........\n",
      "[CV 3/5; 9/60] END criterion=entropy, max_features=6, n_estimators=400;, score=0.781 total time=   0.8s\n",
      "[CV 4/5; 9/60] START criterion=entropy, max_features=6, n_estimators=400........\n",
      "[CV 4/5; 9/60] END criterion=entropy, max_features=6, n_estimators=400;, score=0.766 total time=   0.9s\n",
      "[CV 5/5; 9/60] START criterion=entropy, max_features=6, n_estimators=400........\n"
     ]
    },
    {
     "name": "stdout",
     "output_type": "stream",
     "text": [
      "[CV 5/5; 9/60] END criterion=entropy, max_features=6, n_estimators=400;, score=0.797 total time=   0.9s\n",
      "[CV 1/5; 10/60] START criterion=entropy, max_features=6, n_estimators=500.......\n",
      "[CV 1/5; 10/60] END criterion=entropy, max_features=6, n_estimators=500;, score=0.672 total time=   1.1s\n",
      "[CV 2/5; 10/60] START criterion=entropy, max_features=6, n_estimators=500.......\n",
      "[CV 2/5; 10/60] END criterion=entropy, max_features=6, n_estimators=500;, score=0.781 total time=   1.1s\n",
      "[CV 3/5; 10/60] START criterion=entropy, max_features=6, n_estimators=500.......\n",
      "[CV 3/5; 10/60] END criterion=entropy, max_features=6, n_estimators=500;, score=0.781 total time=   1.1s\n",
      "[CV 4/5; 10/60] START criterion=entropy, max_features=6, n_estimators=500.......\n",
      "[CV 4/5; 10/60] END criterion=entropy, max_features=6, n_estimators=500;, score=0.766 total time=   1.1s\n",
      "[CV 5/5; 10/60] START criterion=entropy, max_features=6, n_estimators=500.......\n",
      "[CV 5/5; 10/60] END criterion=entropy, max_features=6, n_estimators=500;, score=0.797 total time=   1.0s\n",
      "[CV 1/5; 11/60] START criterion=entropy, max_features=7, n_estimators=100.......\n",
      "[CV 1/5; 11/60] END criterion=entropy, max_features=7, n_estimators=100;, score=0.688 total time=   0.1s\n",
      "[CV 2/5; 11/60] START criterion=entropy, max_features=7, n_estimators=100.......\n",
      "[CV 2/5; 11/60] END criterion=entropy, max_features=7, n_estimators=100;, score=0.797 total time=   0.1s\n",
      "[CV 3/5; 11/60] START criterion=entropy, max_features=7, n_estimators=100.......\n",
      "[CV 3/5; 11/60] END criterion=entropy, max_features=7, n_estimators=100;, score=0.781 total time=   0.1s\n",
      "[CV 4/5; 11/60] START criterion=entropy, max_features=7, n_estimators=100.......\n",
      "[CV 4/5; 11/60] END criterion=entropy, max_features=7, n_estimators=100;, score=0.766 total time=   0.1s\n",
      "[CV 5/5; 11/60] START criterion=entropy, max_features=7, n_estimators=100.......\n",
      "[CV 5/5; 11/60] END criterion=entropy, max_features=7, n_estimators=100;, score=0.797 total time=   0.1s\n",
      "[CV 1/5; 12/60] START criterion=entropy, max_features=7, n_estimators=200.......\n",
      "[CV 1/5; 12/60] END criterion=entropy, max_features=7, n_estimators=200;, score=0.688 total time=   0.4s\n",
      "[CV 2/5; 12/60] START criterion=entropy, max_features=7, n_estimators=200.......\n",
      "[CV 2/5; 12/60] END criterion=entropy, max_features=7, n_estimators=200;, score=0.812 total time=   0.3s\n",
      "[CV 3/5; 12/60] START criterion=entropy, max_features=7, n_estimators=200.......\n",
      "[CV 3/5; 12/60] END criterion=entropy, max_features=7, n_estimators=200;, score=0.812 total time=   0.3s\n",
      "[CV 4/5; 12/60] START criterion=entropy, max_features=7, n_estimators=200.......\n",
      "[CV 4/5; 12/60] END criterion=entropy, max_features=7, n_estimators=200;, score=0.750 total time=   0.3s\n",
      "[CV 5/5; 12/60] START criterion=entropy, max_features=7, n_estimators=200.......\n",
      "[CV 5/5; 12/60] END criterion=entropy, max_features=7, n_estimators=200;, score=0.797 total time=   0.4s\n",
      "[CV 1/5; 13/60] START criterion=entropy, max_features=7, n_estimators=300.......\n",
      "[CV 1/5; 13/60] END criterion=entropy, max_features=7, n_estimators=300;, score=0.703 total time=   0.6s\n",
      "[CV 2/5; 13/60] START criterion=entropy, max_features=7, n_estimators=300.......\n",
      "[CV 2/5; 13/60] END criterion=entropy, max_features=7, n_estimators=300;, score=0.812 total time=   0.6s\n",
      "[CV 3/5; 13/60] START criterion=entropy, max_features=7, n_estimators=300.......\n",
      "[CV 3/5; 13/60] END criterion=entropy, max_features=7, n_estimators=300;, score=0.781 total time=   0.6s\n",
      "[CV 4/5; 13/60] START criterion=entropy, max_features=7, n_estimators=300.......\n",
      "[CV 4/5; 13/60] END criterion=entropy, max_features=7, n_estimators=300;, score=0.750 total time=   0.6s\n",
      "[CV 5/5; 13/60] START criterion=entropy, max_features=7, n_estimators=300.......\n",
      "[CV 5/5; 13/60] END criterion=entropy, max_features=7, n_estimators=300;, score=0.797 total time=   0.6s\n",
      "[CV 1/5; 14/60] START criterion=entropy, max_features=7, n_estimators=400.......\n",
      "[CV 1/5; 14/60] END criterion=entropy, max_features=7, n_estimators=400;, score=0.703 total time=   0.8s\n",
      "[CV 2/5; 14/60] START criterion=entropy, max_features=7, n_estimators=400.......\n",
      "[CV 2/5; 14/60] END criterion=entropy, max_features=7, n_estimators=400;, score=0.797 total time=   0.8s\n",
      "[CV 3/5; 14/60] START criterion=entropy, max_features=7, n_estimators=400.......\n",
      "[CV 3/5; 14/60] END criterion=entropy, max_features=7, n_estimators=400;, score=0.797 total time=   0.8s\n",
      "[CV 4/5; 14/60] START criterion=entropy, max_features=7, n_estimators=400.......\n",
      "[CV 4/5; 14/60] END criterion=entropy, max_features=7, n_estimators=400;, score=0.766 total time=   0.8s\n",
      "[CV 5/5; 14/60] START criterion=entropy, max_features=7, n_estimators=400.......\n",
      "[CV 5/5; 14/60] END criterion=entropy, max_features=7, n_estimators=400;, score=0.797 total time=   0.8s\n",
      "[CV 1/5; 15/60] START criterion=entropy, max_features=7, n_estimators=500.......\n",
      "[CV 1/5; 15/60] END criterion=entropy, max_features=7, n_estimators=500;, score=0.703 total time=   1.1s\n",
      "[CV 2/5; 15/60] START criterion=entropy, max_features=7, n_estimators=500.......\n",
      "[CV 2/5; 15/60] END criterion=entropy, max_features=7, n_estimators=500;, score=0.781 total time=   1.1s\n",
      "[CV 3/5; 15/60] START criterion=entropy, max_features=7, n_estimators=500.......\n",
      "[CV 3/5; 15/60] END criterion=entropy, max_features=7, n_estimators=500;, score=0.797 total time=   1.1s\n",
      "[CV 4/5; 15/60] START criterion=entropy, max_features=7, n_estimators=500.......\n",
      "[CV 4/5; 15/60] END criterion=entropy, max_features=7, n_estimators=500;, score=0.766 total time=   1.0s\n",
      "[CV 5/5; 15/60] START criterion=entropy, max_features=7, n_estimators=500.......\n",
      "[CV 5/5; 15/60] END criterion=entropy, max_features=7, n_estimators=500;, score=0.797 total time=   1.0s\n",
      "[CV 1/5; 16/60] START criterion=entropy, max_features=8, n_estimators=100.......\n",
      "[CV 1/5; 16/60] END criterion=entropy, max_features=8, n_estimators=100;, score=0.703 total time=   0.1s\n",
      "[CV 2/5; 16/60] START criterion=entropy, max_features=8, n_estimators=100.......\n",
      "[CV 2/5; 16/60] END criterion=entropy, max_features=8, n_estimators=100;, score=0.766 total time=   0.1s\n",
      "[CV 3/5; 16/60] START criterion=entropy, max_features=8, n_estimators=100.......\n",
      "[CV 3/5; 16/60] END criterion=entropy, max_features=8, n_estimators=100;, score=0.812 total time=   0.1s\n",
      "[CV 4/5; 16/60] START criterion=entropy, max_features=8, n_estimators=100.......\n",
      "[CV 4/5; 16/60] END criterion=entropy, max_features=8, n_estimators=100;, score=0.766 total time=   0.1s\n",
      "[CV 5/5; 16/60] START criterion=entropy, max_features=8, n_estimators=100.......\n",
      "[CV 5/5; 16/60] END criterion=entropy, max_features=8, n_estimators=100;, score=0.797 total time=   0.1s\n",
      "[CV 1/5; 17/60] START criterion=entropy, max_features=8, n_estimators=200.......\n",
      "[CV 1/5; 17/60] END criterion=entropy, max_features=8, n_estimators=200;, score=0.703 total time=   0.4s\n",
      "[CV 2/5; 17/60] START criterion=entropy, max_features=8, n_estimators=200.......\n",
      "[CV 2/5; 17/60] END criterion=entropy, max_features=8, n_estimators=200;, score=0.766 total time=   0.3s\n",
      "[CV 3/5; 17/60] START criterion=entropy, max_features=8, n_estimators=200.......\n",
      "[CV 3/5; 17/60] END criterion=entropy, max_features=8, n_estimators=200;, score=0.812 total time=   0.4s\n",
      "[CV 4/5; 17/60] START criterion=entropy, max_features=8, n_estimators=200.......\n",
      "[CV 4/5; 17/60] END criterion=entropy, max_features=8, n_estimators=200;, score=0.766 total time=   0.4s\n",
      "[CV 5/5; 17/60] START criterion=entropy, max_features=8, n_estimators=200.......\n",
      "[CV 5/5; 17/60] END criterion=entropy, max_features=8, n_estimators=200;, score=0.812 total time=   0.4s\n",
      "[CV 1/5; 18/60] START criterion=entropy, max_features=8, n_estimators=300.......\n",
      "[CV 1/5; 18/60] END criterion=entropy, max_features=8, n_estimators=300;, score=0.703 total time=   0.6s\n",
      "[CV 2/5; 18/60] START criterion=entropy, max_features=8, n_estimators=300.......\n",
      "[CV 2/5; 18/60] END criterion=entropy, max_features=8, n_estimators=300;, score=0.797 total time=   0.6s\n",
      "[CV 3/5; 18/60] START criterion=entropy, max_features=8, n_estimators=300.......\n",
      "[CV 3/5; 18/60] END criterion=entropy, max_features=8, n_estimators=300;, score=0.812 total time=   0.6s\n",
      "[CV 4/5; 18/60] START criterion=entropy, max_features=8, n_estimators=300.......\n",
      "[CV 4/5; 18/60] END criterion=entropy, max_features=8, n_estimators=300;, score=0.750 total time=   0.6s\n",
      "[CV 5/5; 18/60] START criterion=entropy, max_features=8, n_estimators=300.......\n"
     ]
    },
    {
     "name": "stdout",
     "output_type": "stream",
     "text": [
      "[CV 5/5; 18/60] END criterion=entropy, max_features=8, n_estimators=300;, score=0.797 total time=   0.6s\n",
      "[CV 1/5; 19/60] START criterion=entropy, max_features=8, n_estimators=400.......\n",
      "[CV 1/5; 19/60] END criterion=entropy, max_features=8, n_estimators=400;, score=0.703 total time=   0.8s\n",
      "[CV 2/5; 19/60] START criterion=entropy, max_features=8, n_estimators=400.......\n",
      "[CV 2/5; 19/60] END criterion=entropy, max_features=8, n_estimators=400;, score=0.797 total time=   0.8s\n",
      "[CV 3/5; 19/60] START criterion=entropy, max_features=8, n_estimators=400.......\n",
      "[CV 3/5; 19/60] END criterion=entropy, max_features=8, n_estimators=400;, score=0.812 total time=   0.8s\n",
      "[CV 4/5; 19/60] START criterion=entropy, max_features=8, n_estimators=400.......\n",
      "[CV 4/5; 19/60] END criterion=entropy, max_features=8, n_estimators=400;, score=0.750 total time=   0.9s\n",
      "[CV 5/5; 19/60] START criterion=entropy, max_features=8, n_estimators=400.......\n",
      "[CV 5/5; 19/60] END criterion=entropy, max_features=8, n_estimators=400;, score=0.797 total time=   1.0s\n",
      "[CV 1/5; 20/60] START criterion=entropy, max_features=8, n_estimators=500.......\n",
      "[CV 1/5; 20/60] END criterion=entropy, max_features=8, n_estimators=500;, score=0.703 total time=   1.2s\n",
      "[CV 2/5; 20/60] START criterion=entropy, max_features=8, n_estimators=500.......\n",
      "[CV 2/5; 20/60] END criterion=entropy, max_features=8, n_estimators=500;, score=0.797 total time=   1.1s\n",
      "[CV 3/5; 20/60] START criterion=entropy, max_features=8, n_estimators=500.......\n",
      "[CV 3/5; 20/60] END criterion=entropy, max_features=8, n_estimators=500;, score=0.812 total time=   1.0s\n",
      "[CV 4/5; 20/60] START criterion=entropy, max_features=8, n_estimators=500.......\n",
      "[CV 4/5; 20/60] END criterion=entropy, max_features=8, n_estimators=500;, score=0.750 total time=   1.0s\n",
      "[CV 5/5; 20/60] START criterion=entropy, max_features=8, n_estimators=500.......\n",
      "[CV 5/5; 20/60] END criterion=entropy, max_features=8, n_estimators=500;, score=0.797 total time=   1.0s\n",
      "[CV 1/5; 21/60] START criterion=entropy, max_features=9, n_estimators=100.......\n",
      "[CV 1/5; 21/60] END criterion=entropy, max_features=9, n_estimators=100;, score=0.672 total time=   0.1s\n",
      "[CV 2/5; 21/60] START criterion=entropy, max_features=9, n_estimators=100.......\n",
      "[CV 2/5; 21/60] END criterion=entropy, max_features=9, n_estimators=100;, score=0.812 total time=   0.1s\n",
      "[CV 3/5; 21/60] START criterion=entropy, max_features=9, n_estimators=100.......\n",
      "[CV 3/5; 21/60] END criterion=entropy, max_features=9, n_estimators=100;, score=0.797 total time=   0.1s\n",
      "[CV 4/5; 21/60] START criterion=entropy, max_features=9, n_estimators=100.......\n",
      "[CV 4/5; 21/60] END criterion=entropy, max_features=9, n_estimators=100;, score=0.766 total time=   0.1s\n",
      "[CV 5/5; 21/60] START criterion=entropy, max_features=9, n_estimators=100.......\n",
      "[CV 5/5; 21/60] END criterion=entropy, max_features=9, n_estimators=100;, score=0.797 total time=   0.1s\n",
      "[CV 1/5; 22/60] START criterion=entropy, max_features=9, n_estimators=200.......\n",
      "[CV 1/5; 22/60] END criterion=entropy, max_features=9, n_estimators=200;, score=0.703 total time=   0.4s\n",
      "[CV 2/5; 22/60] START criterion=entropy, max_features=9, n_estimators=200.......\n",
      "[CV 2/5; 22/60] END criterion=entropy, max_features=9, n_estimators=200;, score=0.812 total time=   0.4s\n",
      "[CV 3/5; 22/60] START criterion=entropy, max_features=9, n_estimators=200.......\n",
      "[CV 3/5; 22/60] END criterion=entropy, max_features=9, n_estimators=200;, score=0.797 total time=   0.4s\n",
      "[CV 4/5; 22/60] START criterion=entropy, max_features=9, n_estimators=200.......\n",
      "[CV 4/5; 22/60] END criterion=entropy, max_features=9, n_estimators=200;, score=0.766 total time=   0.4s\n",
      "[CV 5/5; 22/60] START criterion=entropy, max_features=9, n_estimators=200.......\n",
      "[CV 5/5; 22/60] END criterion=entropy, max_features=9, n_estimators=200;, score=0.797 total time=   0.4s\n",
      "[CV 1/5; 23/60] START criterion=entropy, max_features=9, n_estimators=300.......\n",
      "[CV 1/5; 23/60] END criterion=entropy, max_features=9, n_estimators=300;, score=0.688 total time=   0.7s\n",
      "[CV 2/5; 23/60] START criterion=entropy, max_features=9, n_estimators=300.......\n",
      "[CV 2/5; 23/60] END criterion=entropy, max_features=9, n_estimators=300;, score=0.812 total time=   0.7s\n",
      "[CV 3/5; 23/60] START criterion=entropy, max_features=9, n_estimators=300.......\n",
      "[CV 3/5; 23/60] END criterion=entropy, max_features=9, n_estimators=300;, score=0.797 total time=   0.7s\n",
      "[CV 4/5; 23/60] START criterion=entropy, max_features=9, n_estimators=300.......\n",
      "[CV 4/5; 23/60] END criterion=entropy, max_features=9, n_estimators=300;, score=0.750 total time=   0.6s\n",
      "[CV 5/5; 23/60] START criterion=entropy, max_features=9, n_estimators=300.......\n",
      "[CV 5/5; 23/60] END criterion=entropy, max_features=9, n_estimators=300;, score=0.797 total time=   0.6s\n",
      "[CV 1/5; 24/60] START criterion=entropy, max_features=9, n_estimators=400.......\n",
      "[CV 1/5; 24/60] END criterion=entropy, max_features=9, n_estimators=400;, score=0.703 total time=   0.8s\n",
      "[CV 2/5; 24/60] START criterion=entropy, max_features=9, n_estimators=400.......\n",
      "[CV 2/5; 24/60] END criterion=entropy, max_features=9, n_estimators=400;, score=0.812 total time=   0.9s\n",
      "[CV 3/5; 24/60] START criterion=entropy, max_features=9, n_estimators=400.......\n",
      "[CV 3/5; 24/60] END criterion=entropy, max_features=9, n_estimators=400;, score=0.812 total time=   1.0s\n",
      "[CV 4/5; 24/60] START criterion=entropy, max_features=9, n_estimators=400.......\n",
      "[CV 4/5; 24/60] END criterion=entropy, max_features=9, n_estimators=400;, score=0.750 total time=   1.0s\n",
      "[CV 5/5; 24/60] START criterion=entropy, max_features=9, n_estimators=400.......\n",
      "[CV 5/5; 24/60] END criterion=entropy, max_features=9, n_estimators=400;, score=0.797 total time=   0.9s\n",
      "[CV 1/5; 25/60] START criterion=entropy, max_features=9, n_estimators=500.......\n",
      "[CV 1/5; 25/60] END criterion=entropy, max_features=9, n_estimators=500;, score=0.703 total time=   1.1s\n",
      "[CV 2/5; 25/60] START criterion=entropy, max_features=9, n_estimators=500.......\n",
      "[CV 2/5; 25/60] END criterion=entropy, max_features=9, n_estimators=500;, score=0.812 total time=   1.1s\n",
      "[CV 3/5; 25/60] START criterion=entropy, max_features=9, n_estimators=500.......\n",
      "[CV 3/5; 25/60] END criterion=entropy, max_features=9, n_estimators=500;, score=0.812 total time=   1.1s\n",
      "[CV 4/5; 25/60] START criterion=entropy, max_features=9, n_estimators=500.......\n",
      "[CV 4/5; 25/60] END criterion=entropy, max_features=9, n_estimators=500;, score=0.750 total time=   1.1s\n",
      "[CV 5/5; 25/60] START criterion=entropy, max_features=9, n_estimators=500.......\n",
      "[CV 5/5; 25/60] END criterion=entropy, max_features=9, n_estimators=500;, score=0.797 total time=   1.1s\n",
      "[CV 1/5; 26/60] START criterion=entropy, max_features=10, n_estimators=100......\n",
      "[CV 1/5; 26/60] END criterion=entropy, max_features=10, n_estimators=100;, score=0.672 total time=   0.1s\n",
      "[CV 2/5; 26/60] START criterion=entropy, max_features=10, n_estimators=100......\n",
      "[CV 2/5; 26/60] END criterion=entropy, max_features=10, n_estimators=100;, score=0.766 total time=   0.1s\n",
      "[CV 3/5; 26/60] START criterion=entropy, max_features=10, n_estimators=100......\n",
      "[CV 3/5; 26/60] END criterion=entropy, max_features=10, n_estimators=100;, score=0.781 total time=   0.2s\n",
      "[CV 4/5; 26/60] START criterion=entropy, max_features=10, n_estimators=100......\n",
      "[CV 4/5; 26/60] END criterion=entropy, max_features=10, n_estimators=100;, score=0.750 total time=   0.1s\n",
      "[CV 5/5; 26/60] START criterion=entropy, max_features=10, n_estimators=100......\n",
      "[CV 5/5; 26/60] END criterion=entropy, max_features=10, n_estimators=100;, score=0.797 total time=   0.2s\n",
      "[CV 1/5; 27/60] START criterion=entropy, max_features=10, n_estimators=200......\n",
      "[CV 1/5; 27/60] END criterion=entropy, max_features=10, n_estimators=200;, score=0.688 total time=   0.4s\n",
      "[CV 2/5; 27/60] START criterion=entropy, max_features=10, n_estimators=200......\n",
      "[CV 2/5; 27/60] END criterion=entropy, max_features=10, n_estimators=200;, score=0.797 total time=   0.4s\n",
      "[CV 3/5; 27/60] START criterion=entropy, max_features=10, n_estimators=200......\n",
      "[CV 3/5; 27/60] END criterion=entropy, max_features=10, n_estimators=200;, score=0.766 total time=   0.4s\n",
      "[CV 4/5; 27/60] START criterion=entropy, max_features=10, n_estimators=200......\n",
      "[CV 4/5; 27/60] END criterion=entropy, max_features=10, n_estimators=200;, score=0.750 total time=   0.4s\n",
      "[CV 5/5; 27/60] START criterion=entropy, max_features=10, n_estimators=200......\n"
     ]
    },
    {
     "name": "stdout",
     "output_type": "stream",
     "text": [
      "[CV 5/5; 27/60] END criterion=entropy, max_features=10, n_estimators=200;, score=0.797 total time=   0.4s\n",
      "[CV 1/5; 28/60] START criterion=entropy, max_features=10, n_estimators=300......\n",
      "[CV 1/5; 28/60] END criterion=entropy, max_features=10, n_estimators=300;, score=0.703 total time=   0.6s\n",
      "[CV 2/5; 28/60] START criterion=entropy, max_features=10, n_estimators=300......\n",
      "[CV 2/5; 28/60] END criterion=entropy, max_features=10, n_estimators=300;, score=0.781 total time=   0.6s\n",
      "[CV 3/5; 28/60] START criterion=entropy, max_features=10, n_estimators=300......\n",
      "[CV 3/5; 28/60] END criterion=entropy, max_features=10, n_estimators=300;, score=0.781 total time=   0.6s\n",
      "[CV 4/5; 28/60] START criterion=entropy, max_features=10, n_estimators=300......\n",
      "[CV 4/5; 28/60] END criterion=entropy, max_features=10, n_estimators=300;, score=0.750 total time=   0.7s\n",
      "[CV 5/5; 28/60] START criterion=entropy, max_features=10, n_estimators=300......\n",
      "[CV 5/5; 28/60] END criterion=entropy, max_features=10, n_estimators=300;, score=0.797 total time=   0.7s\n",
      "[CV 1/5; 29/60] START criterion=entropy, max_features=10, n_estimators=400......\n",
      "[CV 1/5; 29/60] END criterion=entropy, max_features=10, n_estimators=400;, score=0.703 total time=   1.0s\n",
      "[CV 2/5; 29/60] START criterion=entropy, max_features=10, n_estimators=400......\n",
      "[CV 2/5; 29/60] END criterion=entropy, max_features=10, n_estimators=400;, score=0.812 total time=   1.0s\n",
      "[CV 3/5; 29/60] START criterion=entropy, max_features=10, n_estimators=400......\n",
      "[CV 3/5; 29/60] END criterion=entropy, max_features=10, n_estimators=400;, score=0.797 total time=   0.9s\n",
      "[CV 4/5; 29/60] START criterion=entropy, max_features=10, n_estimators=400......\n",
      "[CV 4/5; 29/60] END criterion=entropy, max_features=10, n_estimators=400;, score=0.766 total time=   0.9s\n",
      "[CV 5/5; 29/60] START criterion=entropy, max_features=10, n_estimators=400......\n",
      "[CV 5/5; 29/60] END criterion=entropy, max_features=10, n_estimators=400;, score=0.797 total time=   0.9s\n",
      "[CV 1/5; 30/60] START criterion=entropy, max_features=10, n_estimators=500......\n",
      "[CV 1/5; 30/60] END criterion=entropy, max_features=10, n_estimators=500;, score=0.703 total time=   1.1s\n",
      "[CV 2/5; 30/60] START criterion=entropy, max_features=10, n_estimators=500......\n",
      "[CV 2/5; 30/60] END criterion=entropy, max_features=10, n_estimators=500;, score=0.797 total time=   1.1s\n",
      "[CV 3/5; 30/60] START criterion=entropy, max_features=10, n_estimators=500......\n",
      "[CV 3/5; 30/60] END criterion=entropy, max_features=10, n_estimators=500;, score=0.797 total time=   1.1s\n",
      "[CV 4/5; 30/60] START criterion=entropy, max_features=10, n_estimators=500......\n",
      "[CV 4/5; 30/60] END criterion=entropy, max_features=10, n_estimators=500;, score=0.766 total time=   1.1s\n",
      "[CV 5/5; 30/60] START criterion=entropy, max_features=10, n_estimators=500......\n",
      "[CV 5/5; 30/60] END criterion=entropy, max_features=10, n_estimators=500;, score=0.797 total time=   1.1s\n",
      "[CV 1/5; 31/60] START criterion=gini, max_features=5, n_estimators=100..........\n",
      "[CV 1/5; 31/60] END criterion=gini, max_features=5, n_estimators=100;, score=0.719 total time=   0.1s\n",
      "[CV 2/5; 31/60] START criterion=gini, max_features=5, n_estimators=100..........\n",
      "[CV 2/5; 31/60] END criterion=gini, max_features=5, n_estimators=100;, score=0.766 total time=   0.1s\n",
      "[CV 3/5; 31/60] START criterion=gini, max_features=5, n_estimators=100..........\n",
      "[CV 3/5; 31/60] END criterion=gini, max_features=5, n_estimators=100;, score=0.766 total time=   0.1s\n",
      "[CV 4/5; 31/60] START criterion=gini, max_features=5, n_estimators=100..........\n",
      "[CV 4/5; 31/60] END criterion=gini, max_features=5, n_estimators=100;, score=0.750 total time=   0.1s\n",
      "[CV 5/5; 31/60] START criterion=gini, max_features=5, n_estimators=100..........\n",
      "[CV 5/5; 31/60] END criterion=gini, max_features=5, n_estimators=100;, score=0.797 total time=   0.1s\n",
      "[CV 1/5; 32/60] START criterion=gini, max_features=5, n_estimators=200..........\n",
      "[CV 1/5; 32/60] END criterion=gini, max_features=5, n_estimators=200;, score=0.719 total time=   0.3s\n",
      "[CV 2/5; 32/60] START criterion=gini, max_features=5, n_estimators=200..........\n",
      "[CV 2/5; 32/60] END criterion=gini, max_features=5, n_estimators=200;, score=0.781 total time=   0.3s\n",
      "[CV 3/5; 32/60] START criterion=gini, max_features=5, n_estimators=200..........\n",
      "[CV 3/5; 32/60] END criterion=gini, max_features=5, n_estimators=200;, score=0.797 total time=   0.3s\n",
      "[CV 4/5; 32/60] START criterion=gini, max_features=5, n_estimators=200..........\n",
      "[CV 4/5; 32/60] END criterion=gini, max_features=5, n_estimators=200;, score=0.734 total time=   0.3s\n",
      "[CV 5/5; 32/60] START criterion=gini, max_features=5, n_estimators=200..........\n",
      "[CV 5/5; 32/60] END criterion=gini, max_features=5, n_estimators=200;, score=0.812 total time=   0.3s\n",
      "[CV 1/5; 33/60] START criterion=gini, max_features=5, n_estimators=300..........\n",
      "[CV 1/5; 33/60] END criterion=gini, max_features=5, n_estimators=300;, score=0.703 total time=   0.6s\n",
      "[CV 2/5; 33/60] START criterion=gini, max_features=5, n_estimators=300..........\n",
      "[CV 2/5; 33/60] END criterion=gini, max_features=5, n_estimators=300;, score=0.781 total time=   0.6s\n",
      "[CV 3/5; 33/60] START criterion=gini, max_features=5, n_estimators=300..........\n",
      "[CV 3/5; 33/60] END criterion=gini, max_features=5, n_estimators=300;, score=0.781 total time=   0.6s\n",
      "[CV 4/5; 33/60] START criterion=gini, max_features=5, n_estimators=300..........\n",
      "[CV 4/5; 33/60] END criterion=gini, max_features=5, n_estimators=300;, score=0.734 total time=   0.6s\n",
      "[CV 5/5; 33/60] START criterion=gini, max_features=5, n_estimators=300..........\n",
      "[CV 5/5; 33/60] END criterion=gini, max_features=5, n_estimators=300;, score=0.812 total time=   0.6s\n",
      "[CV 1/5; 34/60] START criterion=gini, max_features=5, n_estimators=400..........\n",
      "[CV 1/5; 34/60] END criterion=gini, max_features=5, n_estimators=400;, score=0.703 total time=   0.7s\n",
      "[CV 2/5; 34/60] START criterion=gini, max_features=5, n_estimators=400..........\n",
      "[CV 2/5; 34/60] END criterion=gini, max_features=5, n_estimators=400;, score=0.781 total time=   0.7s\n",
      "[CV 3/5; 34/60] START criterion=gini, max_features=5, n_estimators=400..........\n",
      "[CV 3/5; 34/60] END criterion=gini, max_features=5, n_estimators=400;, score=0.781 total time=   0.7s\n",
      "[CV 4/5; 34/60] START criterion=gini, max_features=5, n_estimators=400..........\n",
      "[CV 4/5; 34/60] END criterion=gini, max_features=5, n_estimators=400;, score=0.734 total time=   0.7s\n",
      "[CV 5/5; 34/60] START criterion=gini, max_features=5, n_estimators=400..........\n",
      "[CV 5/5; 34/60] END criterion=gini, max_features=5, n_estimators=400;, score=0.828 total time=   0.7s\n",
      "[CV 1/5; 35/60] START criterion=gini, max_features=5, n_estimators=500..........\n",
      "[CV 1/5; 35/60] END criterion=gini, max_features=5, n_estimators=500;, score=0.719 total time=   0.9s\n",
      "[CV 2/5; 35/60] START criterion=gini, max_features=5, n_estimators=500..........\n",
      "[CV 2/5; 35/60] END criterion=gini, max_features=5, n_estimators=500;, score=0.781 total time=   0.9s\n",
      "[CV 3/5; 35/60] START criterion=gini, max_features=5, n_estimators=500..........\n",
      "[CV 3/5; 35/60] END criterion=gini, max_features=5, n_estimators=500;, score=0.781 total time=   0.9s\n",
      "[CV 4/5; 35/60] START criterion=gini, max_features=5, n_estimators=500..........\n",
      "[CV 4/5; 35/60] END criterion=gini, max_features=5, n_estimators=500;, score=0.750 total time=   0.9s\n",
      "[CV 5/5; 35/60] START criterion=gini, max_features=5, n_estimators=500..........\n",
      "[CV 5/5; 35/60] END criterion=gini, max_features=5, n_estimators=500;, score=0.812 total time=   0.9s\n",
      "[CV 1/5; 36/60] START criterion=gini, max_features=6, n_estimators=100..........\n",
      "[CV 1/5; 36/60] END criterion=gini, max_features=6, n_estimators=100;, score=0.672 total time=   0.1s\n",
      "[CV 2/5; 36/60] START criterion=gini, max_features=6, n_estimators=100..........\n",
      "[CV 2/5; 36/60] END criterion=gini, max_features=6, n_estimators=100;, score=0.766 total time=   0.1s\n",
      "[CV 3/5; 36/60] START criterion=gini, max_features=6, n_estimators=100..........\n",
      "[CV 3/5; 36/60] END criterion=gini, max_features=6, n_estimators=100;, score=0.781 total time=   0.1s\n",
      "[CV 4/5; 36/60] START criterion=gini, max_features=6, n_estimators=100..........\n",
      "[CV 4/5; 36/60] END criterion=gini, max_features=6, n_estimators=100;, score=0.781 total time=   0.1s\n",
      "[CV 5/5; 36/60] START criterion=gini, max_features=6, n_estimators=100..........\n"
     ]
    },
    {
     "name": "stdout",
     "output_type": "stream",
     "text": [
      "[CV 5/5; 36/60] END criterion=gini, max_features=6, n_estimators=100;, score=0.797 total time=   0.1s\n",
      "[CV 1/5; 37/60] START criterion=gini, max_features=6, n_estimators=200..........\n",
      "[CV 1/5; 37/60] END criterion=gini, max_features=6, n_estimators=200;, score=0.719 total time=   0.3s\n",
      "[CV 2/5; 37/60] START criterion=gini, max_features=6, n_estimators=200..........\n",
      "[CV 2/5; 37/60] END criterion=gini, max_features=6, n_estimators=200;, score=0.781 total time=   0.3s\n",
      "[CV 3/5; 37/60] START criterion=gini, max_features=6, n_estimators=200..........\n",
      "[CV 3/5; 37/60] END criterion=gini, max_features=6, n_estimators=200;, score=0.781 total time=   0.3s\n",
      "[CV 4/5; 37/60] START criterion=gini, max_features=6, n_estimators=200..........\n",
      "[CV 4/5; 37/60] END criterion=gini, max_features=6, n_estimators=200;, score=0.750 total time=   0.3s\n",
      "[CV 5/5; 37/60] START criterion=gini, max_features=6, n_estimators=200..........\n",
      "[CV 5/5; 37/60] END criterion=gini, max_features=6, n_estimators=200;, score=0.812 total time=   0.3s\n",
      "[CV 1/5; 38/60] START criterion=gini, max_features=6, n_estimators=300..........\n",
      "[CV 1/5; 38/60] END criterion=gini, max_features=6, n_estimators=300;, score=0.688 total time=   0.5s\n",
      "[CV 2/5; 38/60] START criterion=gini, max_features=6, n_estimators=300..........\n",
      "[CV 2/5; 38/60] END criterion=gini, max_features=6, n_estimators=300;, score=0.781 total time=   0.6s\n",
      "[CV 3/5; 38/60] START criterion=gini, max_features=6, n_estimators=300..........\n",
      "[CV 3/5; 38/60] END criterion=gini, max_features=6, n_estimators=300;, score=0.781 total time=   0.6s\n",
      "[CV 4/5; 38/60] START criterion=gini, max_features=6, n_estimators=300..........\n",
      "[CV 4/5; 38/60] END criterion=gini, max_features=6, n_estimators=300;, score=0.750 total time=   0.6s\n",
      "[CV 5/5; 38/60] START criterion=gini, max_features=6, n_estimators=300..........\n",
      "[CV 5/5; 38/60] END criterion=gini, max_features=6, n_estimators=300;, score=0.812 total time=   0.6s\n",
      "[CV 1/5; 39/60] START criterion=gini, max_features=6, n_estimators=400..........\n",
      "[CV 1/5; 39/60] END criterion=gini, max_features=6, n_estimators=400;, score=0.688 total time=   0.9s\n",
      "[CV 2/5; 39/60] START criterion=gini, max_features=6, n_estimators=400..........\n",
      "[CV 2/5; 39/60] END criterion=gini, max_features=6, n_estimators=400;, score=0.766 total time=   0.7s\n",
      "[CV 3/5; 39/60] START criterion=gini, max_features=6, n_estimators=400..........\n",
      "[CV 3/5; 39/60] END criterion=gini, max_features=6, n_estimators=400;, score=0.797 total time=   0.7s\n",
      "[CV 4/5; 39/60] START criterion=gini, max_features=6, n_estimators=400..........\n",
      "[CV 4/5; 39/60] END criterion=gini, max_features=6, n_estimators=400;, score=0.766 total time=   0.7s\n",
      "[CV 5/5; 39/60] START criterion=gini, max_features=6, n_estimators=400..........\n",
      "[CV 5/5; 39/60] END criterion=gini, max_features=6, n_estimators=400;, score=0.812 total time=   0.7s\n",
      "[CV 1/5; 40/60] START criterion=gini, max_features=6, n_estimators=500..........\n",
      "[CV 1/5; 40/60] END criterion=gini, max_features=6, n_estimators=500;, score=0.688 total time=   0.9s\n",
      "[CV 2/5; 40/60] START criterion=gini, max_features=6, n_estimators=500..........\n",
      "[CV 2/5; 40/60] END criterion=gini, max_features=6, n_estimators=500;, score=0.781 total time=   0.9s\n",
      "[CV 3/5; 40/60] START criterion=gini, max_features=6, n_estimators=500..........\n",
      "[CV 3/5; 40/60] END criterion=gini, max_features=6, n_estimators=500;, score=0.797 total time=   0.9s\n",
      "[CV 4/5; 40/60] START criterion=gini, max_features=6, n_estimators=500..........\n",
      "[CV 4/5; 40/60] END criterion=gini, max_features=6, n_estimators=500;, score=0.766 total time=   1.0s\n",
      "[CV 5/5; 40/60] START criterion=gini, max_features=6, n_estimators=500..........\n",
      "[CV 5/5; 40/60] END criterion=gini, max_features=6, n_estimators=500;, score=0.812 total time=   0.9s\n",
      "[CV 1/5; 41/60] START criterion=gini, max_features=7, n_estimators=100..........\n",
      "[CV 1/5; 41/60] END criterion=gini, max_features=7, n_estimators=100;, score=0.703 total time=   0.1s\n",
      "[CV 2/5; 41/60] START criterion=gini, max_features=7, n_estimators=100..........\n",
      "[CV 2/5; 41/60] END criterion=gini, max_features=7, n_estimators=100;, score=0.750 total time=   0.1s\n",
      "[CV 3/5; 41/60] START criterion=gini, max_features=7, n_estimators=100..........\n",
      "[CV 3/5; 41/60] END criterion=gini, max_features=7, n_estimators=100;, score=0.781 total time=   0.1s\n",
      "[CV 4/5; 41/60] START criterion=gini, max_features=7, n_estimators=100..........\n",
      "[CV 4/5; 41/60] END criterion=gini, max_features=7, n_estimators=100;, score=0.766 total time=   0.2s\n",
      "[CV 5/5; 41/60] START criterion=gini, max_features=7, n_estimators=100..........\n",
      "[CV 5/5; 41/60] END criterion=gini, max_features=7, n_estimators=100;, score=0.844 total time=   0.2s\n",
      "[CV 1/5; 42/60] START criterion=gini, max_features=7, n_estimators=200..........\n",
      "[CV 1/5; 42/60] END criterion=gini, max_features=7, n_estimators=200;, score=0.719 total time=   0.4s\n",
      "[CV 2/5; 42/60] START criterion=gini, max_features=7, n_estimators=200..........\n",
      "[CV 2/5; 42/60] END criterion=gini, max_features=7, n_estimators=200;, score=0.750 total time=   0.4s\n",
      "[CV 3/5; 42/60] START criterion=gini, max_features=7, n_estimators=200..........\n",
      "[CV 3/5; 42/60] END criterion=gini, max_features=7, n_estimators=200;, score=0.781 total time=   0.4s\n",
      "[CV 4/5; 42/60] START criterion=gini, max_features=7, n_estimators=200..........\n",
      "[CV 4/5; 42/60] END criterion=gini, max_features=7, n_estimators=200;, score=0.750 total time=   0.4s\n",
      "[CV 5/5; 42/60] START criterion=gini, max_features=7, n_estimators=200..........\n",
      "[CV 5/5; 42/60] END criterion=gini, max_features=7, n_estimators=200;, score=0.828 total time=   0.4s\n",
      "[CV 1/5; 43/60] START criterion=gini, max_features=7, n_estimators=300..........\n",
      "[CV 1/5; 43/60] END criterion=gini, max_features=7, n_estimators=300;, score=0.719 total time=   0.7s\n",
      "[CV 2/5; 43/60] START criterion=gini, max_features=7, n_estimators=300..........\n",
      "[CV 2/5; 43/60] END criterion=gini, max_features=7, n_estimators=300;, score=0.766 total time=   0.7s\n",
      "[CV 3/5; 43/60] START criterion=gini, max_features=7, n_estimators=300..........\n",
      "[CV 3/5; 43/60] END criterion=gini, max_features=7, n_estimators=300;, score=0.766 total time=   0.7s\n",
      "[CV 4/5; 43/60] START criterion=gini, max_features=7, n_estimators=300..........\n",
      "[CV 4/5; 43/60] END criterion=gini, max_features=7, n_estimators=300;, score=0.750 total time=   0.7s\n",
      "[CV 5/5; 43/60] START criterion=gini, max_features=7, n_estimators=300..........\n",
      "[CV 5/5; 43/60] END criterion=gini, max_features=7, n_estimators=300;, score=0.828 total time=   0.6s\n",
      "[CV 1/5; 44/60] START criterion=gini, max_features=7, n_estimators=400..........\n",
      "[CV 1/5; 44/60] END criterion=gini, max_features=7, n_estimators=400;, score=0.719 total time=   0.8s\n",
      "[CV 2/5; 44/60] START criterion=gini, max_features=7, n_estimators=400..........\n",
      "[CV 2/5; 44/60] END criterion=gini, max_features=7, n_estimators=400;, score=0.781 total time=   0.7s\n",
      "[CV 3/5; 44/60] START criterion=gini, max_features=7, n_estimators=400..........\n",
      "[CV 3/5; 44/60] END criterion=gini, max_features=7, n_estimators=400;, score=0.797 total time=   0.7s\n",
      "[CV 4/5; 44/60] START criterion=gini, max_features=7, n_estimators=400..........\n",
      "[CV 4/5; 44/60] END criterion=gini, max_features=7, n_estimators=400;, score=0.750 total time=   0.7s\n",
      "[CV 5/5; 44/60] START criterion=gini, max_features=7, n_estimators=400..........\n",
      "[CV 5/5; 44/60] END criterion=gini, max_features=7, n_estimators=400;, score=0.828 total time=   0.7s\n",
      "[CV 1/5; 45/60] START criterion=gini, max_features=7, n_estimators=500..........\n",
      "[CV 1/5; 45/60] END criterion=gini, max_features=7, n_estimators=500;, score=0.703 total time=   1.0s\n",
      "[CV 2/5; 45/60] START criterion=gini, max_features=7, n_estimators=500..........\n",
      "[CV 2/5; 45/60] END criterion=gini, max_features=7, n_estimators=500;, score=0.781 total time=   0.9s\n",
      "[CV 3/5; 45/60] START criterion=gini, max_features=7, n_estimators=500..........\n",
      "[CV 3/5; 45/60] END criterion=gini, max_features=7, n_estimators=500;, score=0.797 total time=   0.9s\n",
      "[CV 4/5; 45/60] START criterion=gini, max_features=7, n_estimators=500..........\n",
      "[CV 4/5; 45/60] END criterion=gini, max_features=7, n_estimators=500;, score=0.766 total time=   0.9s\n",
      "[CV 5/5; 45/60] START criterion=gini, max_features=7, n_estimators=500..........\n"
     ]
    },
    {
     "name": "stdout",
     "output_type": "stream",
     "text": [
      "[CV 5/5; 45/60] END criterion=gini, max_features=7, n_estimators=500;, score=0.828 total time=   0.9s\n",
      "[CV 1/5; 46/60] START criterion=gini, max_features=8, n_estimators=100..........\n",
      "[CV 1/5; 46/60] END criterion=gini, max_features=8, n_estimators=100;, score=0.703 total time=   0.1s\n",
      "[CV 2/5; 46/60] START criterion=gini, max_features=8, n_estimators=100..........\n",
      "[CV 2/5; 46/60] END criterion=gini, max_features=8, n_estimators=100;, score=0.797 total time=   0.1s\n",
      "[CV 3/5; 46/60] START criterion=gini, max_features=8, n_estimators=100..........\n",
      "[CV 3/5; 46/60] END criterion=gini, max_features=8, n_estimators=100;, score=0.750 total time=   0.1s\n",
      "[CV 4/5; 46/60] START criterion=gini, max_features=8, n_estimators=100..........\n",
      "[CV 4/5; 46/60] END criterion=gini, max_features=8, n_estimators=100;, score=0.781 total time=   0.1s\n",
      "[CV 5/5; 46/60] START criterion=gini, max_features=8, n_estimators=100..........\n",
      "[CV 5/5; 46/60] END criterion=gini, max_features=8, n_estimators=100;, score=0.828 total time=   0.1s\n",
      "[CV 1/5; 47/60] START criterion=gini, max_features=8, n_estimators=200..........\n",
      "[CV 1/5; 47/60] END criterion=gini, max_features=8, n_estimators=200;, score=0.703 total time=   0.3s\n",
      "[CV 2/5; 47/60] START criterion=gini, max_features=8, n_estimators=200..........\n",
      "[CV 2/5; 47/60] END criterion=gini, max_features=8, n_estimators=200;, score=0.766 total time=   0.3s\n",
      "[CV 3/5; 47/60] START criterion=gini, max_features=8, n_estimators=200..........\n",
      "[CV 3/5; 47/60] END criterion=gini, max_features=8, n_estimators=200;, score=0.766 total time=   0.3s\n",
      "[CV 4/5; 47/60] START criterion=gini, max_features=8, n_estimators=200..........\n",
      "[CV 4/5; 47/60] END criterion=gini, max_features=8, n_estimators=200;, score=0.766 total time=   0.3s\n",
      "[CV 5/5; 47/60] START criterion=gini, max_features=8, n_estimators=200..........\n",
      "[CV 5/5; 47/60] END criterion=gini, max_features=8, n_estimators=200;, score=0.828 total time=   0.4s\n",
      "[CV 1/5; 48/60] START criterion=gini, max_features=8, n_estimators=300..........\n",
      "[CV 1/5; 48/60] END criterion=gini, max_features=8, n_estimators=300;, score=0.703 total time=   0.6s\n",
      "[CV 2/5; 48/60] START criterion=gini, max_features=8, n_estimators=300..........\n",
      "[CV 2/5; 48/60] END criterion=gini, max_features=8, n_estimators=300;, score=0.781 total time=   0.7s\n",
      "[CV 3/5; 48/60] START criterion=gini, max_features=8, n_estimators=300..........\n",
      "[CV 3/5; 48/60] END criterion=gini, max_features=8, n_estimators=300;, score=0.766 total time=   0.6s\n",
      "[CV 4/5; 48/60] START criterion=gini, max_features=8, n_estimators=300..........\n",
      "[CV 4/5; 48/60] END criterion=gini, max_features=8, n_estimators=300;, score=0.750 total time=   0.6s\n",
      "[CV 5/5; 48/60] START criterion=gini, max_features=8, n_estimators=300..........\n",
      "[CV 5/5; 48/60] END criterion=gini, max_features=8, n_estimators=300;, score=0.828 total time=   0.6s\n",
      "[CV 1/5; 49/60] START criterion=gini, max_features=8, n_estimators=400..........\n",
      "[CV 1/5; 49/60] END criterion=gini, max_features=8, n_estimators=400;, score=0.703 total time=   0.7s\n",
      "[CV 2/5; 49/60] START criterion=gini, max_features=8, n_estimators=400..........\n",
      "[CV 2/5; 49/60] END criterion=gini, max_features=8, n_estimators=400;, score=0.781 total time=   0.7s\n",
      "[CV 3/5; 49/60] START criterion=gini, max_features=8, n_estimators=400..........\n",
      "[CV 3/5; 49/60] END criterion=gini, max_features=8, n_estimators=400;, score=0.812 total time=   0.7s\n",
      "[CV 4/5; 49/60] START criterion=gini, max_features=8, n_estimators=400..........\n",
      "[CV 4/5; 49/60] END criterion=gini, max_features=8, n_estimators=400;, score=0.750 total time=   0.7s\n",
      "[CV 5/5; 49/60] START criterion=gini, max_features=8, n_estimators=400..........\n",
      "[CV 5/5; 49/60] END criterion=gini, max_features=8, n_estimators=400;, score=0.828 total time=   0.8s\n",
      "[CV 1/5; 50/60] START criterion=gini, max_features=8, n_estimators=500..........\n",
      "[CV 1/5; 50/60] END criterion=gini, max_features=8, n_estimators=500;, score=0.703 total time=   0.9s\n",
      "[CV 2/5; 50/60] START criterion=gini, max_features=8, n_estimators=500..........\n",
      "[CV 2/5; 50/60] END criterion=gini, max_features=8, n_estimators=500;, score=0.781 total time=   0.9s\n",
      "[CV 3/5; 50/60] START criterion=gini, max_features=8, n_estimators=500..........\n",
      "[CV 3/5; 50/60] END criterion=gini, max_features=8, n_estimators=500;, score=0.797 total time=   0.9s\n",
      "[CV 4/5; 50/60] START criterion=gini, max_features=8, n_estimators=500..........\n",
      "[CV 4/5; 50/60] END criterion=gini, max_features=8, n_estimators=500;, score=0.750 total time=   0.9s\n",
      "[CV 5/5; 50/60] START criterion=gini, max_features=8, n_estimators=500..........\n",
      "[CV 5/5; 50/60] END criterion=gini, max_features=8, n_estimators=500;, score=0.828 total time=   1.0s\n",
      "[CV 1/5; 51/60] START criterion=gini, max_features=9, n_estimators=100..........\n",
      "[CV 1/5; 51/60] END criterion=gini, max_features=9, n_estimators=100;, score=0.672 total time=   0.1s\n",
      "[CV 2/5; 51/60] START criterion=gini, max_features=9, n_estimators=100..........\n",
      "[CV 2/5; 51/60] END criterion=gini, max_features=9, n_estimators=100;, score=0.812 total time=   0.1s\n",
      "[CV 3/5; 51/60] START criterion=gini, max_features=9, n_estimators=100..........\n",
      "[CV 3/5; 51/60] END criterion=gini, max_features=9, n_estimators=100;, score=0.812 total time=   0.1s\n",
      "[CV 4/5; 51/60] START criterion=gini, max_features=9, n_estimators=100..........\n",
      "[CV 4/5; 51/60] END criterion=gini, max_features=9, n_estimators=100;, score=0.734 total time=   0.1s\n",
      "[CV 5/5; 51/60] START criterion=gini, max_features=9, n_estimators=100..........\n",
      "[CV 5/5; 51/60] END criterion=gini, max_features=9, n_estimators=100;, score=0.844 total time=   0.1s\n",
      "[CV 1/5; 52/60] START criterion=gini, max_features=9, n_estimators=200..........\n",
      "[CV 1/5; 52/60] END criterion=gini, max_features=9, n_estimators=200;, score=0.688 total time=   0.3s\n",
      "[CV 2/5; 52/60] START criterion=gini, max_features=9, n_estimators=200..........\n",
      "[CV 2/5; 52/60] END criterion=gini, max_features=9, n_estimators=200;, score=0.797 total time=   0.3s\n",
      "[CV 3/5; 52/60] START criterion=gini, max_features=9, n_estimators=200..........\n",
      "[CV 3/5; 52/60] END criterion=gini, max_features=9, n_estimators=200;, score=0.781 total time=   0.3s\n",
      "[CV 4/5; 52/60] START criterion=gini, max_features=9, n_estimators=200..........\n",
      "[CV 4/5; 52/60] END criterion=gini, max_features=9, n_estimators=200;, score=0.766 total time=   0.3s\n",
      "[CV 5/5; 52/60] START criterion=gini, max_features=9, n_estimators=200..........\n",
      "[CV 5/5; 52/60] END criterion=gini, max_features=9, n_estimators=200;, score=0.844 total time=   0.4s\n",
      "[CV 1/5; 53/60] START criterion=gini, max_features=9, n_estimators=300..........\n",
      "[CV 1/5; 53/60] END criterion=gini, max_features=9, n_estimators=300;, score=0.688 total time=   0.6s\n",
      "[CV 2/5; 53/60] START criterion=gini, max_features=9, n_estimators=300..........\n",
      "[CV 2/5; 53/60] END criterion=gini, max_features=9, n_estimators=300;, score=0.797 total time=   0.7s\n",
      "[CV 3/5; 53/60] START criterion=gini, max_features=9, n_estimators=300..........\n",
      "[CV 3/5; 53/60] END criterion=gini, max_features=9, n_estimators=300;, score=0.797 total time=   0.6s\n",
      "[CV 4/5; 53/60] START criterion=gini, max_features=9, n_estimators=300..........\n",
      "[CV 4/5; 53/60] END criterion=gini, max_features=9, n_estimators=300;, score=0.750 total time=   0.6s\n",
      "[CV 5/5; 53/60] START criterion=gini, max_features=9, n_estimators=300..........\n",
      "[CV 5/5; 53/60] END criterion=gini, max_features=9, n_estimators=300;, score=0.844 total time=   0.6s\n",
      "[CV 1/5; 54/60] START criterion=gini, max_features=9, n_estimators=400..........\n",
      "[CV 1/5; 54/60] END criterion=gini, max_features=9, n_estimators=400;, score=0.688 total time=   0.8s\n",
      "[CV 2/5; 54/60] START criterion=gini, max_features=9, n_estimators=400..........\n",
      "[CV 2/5; 54/60] END criterion=gini, max_features=9, n_estimators=400;, score=0.812 total time=   0.8s\n",
      "[CV 3/5; 54/60] START criterion=gini, max_features=9, n_estimators=400..........\n",
      "[CV 3/5; 54/60] END criterion=gini, max_features=9, n_estimators=400;, score=0.797 total time=   0.8s\n",
      "[CV 4/5; 54/60] START criterion=gini, max_features=9, n_estimators=400..........\n",
      "[CV 4/5; 54/60] END criterion=gini, max_features=9, n_estimators=400;, score=0.750 total time=   0.8s\n",
      "[CV 5/5; 54/60] START criterion=gini, max_features=9, n_estimators=400..........\n"
     ]
    },
    {
     "name": "stdout",
     "output_type": "stream",
     "text": [
      "[CV 5/5; 54/60] END criterion=gini, max_features=9, n_estimators=400;, score=0.859 total time=   0.8s\n",
      "[CV 1/5; 55/60] START criterion=gini, max_features=9, n_estimators=500..........\n",
      "[CV 1/5; 55/60] END criterion=gini, max_features=9, n_estimators=500;, score=0.688 total time=   1.0s\n",
      "[CV 2/5; 55/60] START criterion=gini, max_features=9, n_estimators=500..........\n",
      "[CV 2/5; 55/60] END criterion=gini, max_features=9, n_estimators=500;, score=0.797 total time=   1.0s\n",
      "[CV 3/5; 55/60] START criterion=gini, max_features=9, n_estimators=500..........\n",
      "[CV 3/5; 55/60] END criterion=gini, max_features=9, n_estimators=500;, score=0.797 total time=   1.0s\n",
      "[CV 4/5; 55/60] START criterion=gini, max_features=9, n_estimators=500..........\n",
      "[CV 4/5; 55/60] END criterion=gini, max_features=9, n_estimators=500;, score=0.781 total time=   1.0s\n",
      "[CV 5/5; 55/60] START criterion=gini, max_features=9, n_estimators=500..........\n",
      "[CV 5/5; 55/60] END criterion=gini, max_features=9, n_estimators=500;, score=0.859 total time=   1.0s\n",
      "[CV 1/5; 56/60] START criterion=gini, max_features=10, n_estimators=100.........\n",
      "[CV 1/5; 56/60] END criterion=gini, max_features=10, n_estimators=100;, score=0.688 total time=   0.2s\n",
      "[CV 2/5; 56/60] START criterion=gini, max_features=10, n_estimators=100.........\n",
      "[CV 2/5; 56/60] END criterion=gini, max_features=10, n_estimators=100;, score=0.797 total time=   0.1s\n",
      "[CV 3/5; 56/60] START criterion=gini, max_features=10, n_estimators=100.........\n",
      "[CV 3/5; 56/60] END criterion=gini, max_features=10, n_estimators=100;, score=0.797 total time=   0.1s\n",
      "[CV 4/5; 56/60] START criterion=gini, max_features=10, n_estimators=100.........\n",
      "[CV 4/5; 56/60] END criterion=gini, max_features=10, n_estimators=100;, score=0.766 total time=   0.1s\n",
      "[CV 5/5; 56/60] START criterion=gini, max_features=10, n_estimators=100.........\n",
      "[CV 5/5; 56/60] END criterion=gini, max_features=10, n_estimators=100;, score=0.797 total time=   0.1s\n",
      "[CV 1/5; 57/60] START criterion=gini, max_features=10, n_estimators=200.........\n",
      "[CV 1/5; 57/60] END criterion=gini, max_features=10, n_estimators=200;, score=0.672 total time=   0.3s\n",
      "[CV 2/5; 57/60] START criterion=gini, max_features=10, n_estimators=200.........\n",
      "[CV 2/5; 57/60] END criterion=gini, max_features=10, n_estimators=200;, score=0.797 total time=   0.3s\n",
      "[CV 3/5; 57/60] START criterion=gini, max_features=10, n_estimators=200.........\n",
      "[CV 3/5; 57/60] END criterion=gini, max_features=10, n_estimators=200;, score=0.797 total time=   0.4s\n",
      "[CV 4/5; 57/60] START criterion=gini, max_features=10, n_estimators=200.........\n",
      "[CV 4/5; 57/60] END criterion=gini, max_features=10, n_estimators=200;, score=0.766 total time=   0.4s\n",
      "[CV 5/5; 57/60] START criterion=gini, max_features=10, n_estimators=200.........\n",
      "[CV 5/5; 57/60] END criterion=gini, max_features=10, n_estimators=200;, score=0.828 total time=   0.4s\n",
      "[CV 1/5; 58/60] START criterion=gini, max_features=10, n_estimators=300.........\n",
      "[CV 1/5; 58/60] END criterion=gini, max_features=10, n_estimators=300;, score=0.688 total time=   0.7s\n",
      "[CV 2/5; 58/60] START criterion=gini, max_features=10, n_estimators=300.........\n",
      "[CV 2/5; 58/60] END criterion=gini, max_features=10, n_estimators=300;, score=0.828 total time=   0.7s\n",
      "[CV 3/5; 58/60] START criterion=gini, max_features=10, n_estimators=300.........\n",
      "[CV 3/5; 58/60] END criterion=gini, max_features=10, n_estimators=300;, score=0.812 total time=   0.6s\n",
      "[CV 4/5; 58/60] START criterion=gini, max_features=10, n_estimators=300.........\n",
      "[CV 4/5; 58/60] END criterion=gini, max_features=10, n_estimators=300;, score=0.766 total time=   0.6s\n",
      "[CV 5/5; 58/60] START criterion=gini, max_features=10, n_estimators=300.........\n",
      "[CV 5/5; 58/60] END criterion=gini, max_features=10, n_estimators=300;, score=0.828 total time=   0.6s\n",
      "[CV 1/5; 59/60] START criterion=gini, max_features=10, n_estimators=400.........\n",
      "[CV 1/5; 59/60] END criterion=gini, max_features=10, n_estimators=400;, score=0.688 total time=   0.8s\n",
      "[CV 2/5; 59/60] START criterion=gini, max_features=10, n_estimators=400.........\n",
      "[CV 2/5; 59/60] END criterion=gini, max_features=10, n_estimators=400;, score=0.828 total time=   0.8s\n",
      "[CV 3/5; 59/60] START criterion=gini, max_features=10, n_estimators=400.........\n",
      "[CV 3/5; 59/60] END criterion=gini, max_features=10, n_estimators=400;, score=0.812 total time=   0.8s\n",
      "[CV 4/5; 59/60] START criterion=gini, max_features=10, n_estimators=400.........\n",
      "[CV 4/5; 59/60] END criterion=gini, max_features=10, n_estimators=400;, score=0.766 total time=   0.8s\n",
      "[CV 5/5; 59/60] START criterion=gini, max_features=10, n_estimators=400.........\n",
      "[CV 5/5; 59/60] END criterion=gini, max_features=10, n_estimators=400;, score=0.828 total time=   0.8s\n",
      "[CV 1/5; 60/60] START criterion=gini, max_features=10, n_estimators=500.........\n",
      "[CV 1/5; 60/60] END criterion=gini, max_features=10, n_estimators=500;, score=0.688 total time=   1.0s\n",
      "[CV 2/5; 60/60] START criterion=gini, max_features=10, n_estimators=500.........\n",
      "[CV 2/5; 60/60] END criterion=gini, max_features=10, n_estimators=500;, score=0.828 total time=   1.0s\n",
      "[CV 3/5; 60/60] START criterion=gini, max_features=10, n_estimators=500.........\n",
      "[CV 3/5; 60/60] END criterion=gini, max_features=10, n_estimators=500;, score=0.797 total time=   1.0s\n",
      "[CV 4/5; 60/60] START criterion=gini, max_features=10, n_estimators=500.........\n",
      "[CV 4/5; 60/60] END criterion=gini, max_features=10, n_estimators=500;, score=0.766 total time=   1.1s\n",
      "[CV 5/5; 60/60] START criterion=gini, max_features=10, n_estimators=500.........\n",
      "[CV 5/5; 60/60] END criterion=gini, max_features=10, n_estimators=500;, score=0.828 total time=   1.1s\n"
     ]
    }
   ],
   "source": [
    "tree_list = [100, 200, 300, 400, 500]\n",
    "criteria = ['entropy', 'gini']\n",
    "features = [5,6,7,8,9,10]\n",
    "model = RandomForestClassifier(random_state = 42)\n",
    "param_grid = dict(n_estimators = tree_list, criterion = criteria, max_features = features)\n",
    "grid = GridSearchCV(estimator = model, param_grid=param_grid, cv = KFold(), verbose = 10)\n",
    "grid_result = grid.fit(x_train, y_train)"
   ]
  },
  {
   "cell_type": "code",
   "execution_count": 35,
   "id": "4664ada8",
   "metadata": {
    "ExecuteTime": {
     "end_time": "2023-06-08T08:00:09.405839Z",
     "start_time": "2023-06-08T08:00:09.396864Z"
    }
   },
   "outputs": [
    {
     "name": "stdout",
     "output_type": "stream",
     "text": [
      "Best : 0.784375, using {'criterion': 'gini', 'max_features': 9, 'n_estimators': 500}\n",
      "0.76875,0.03479852726768764 with: {'criterion': 'entropy', 'max_features': 5, 'n_estimators': 100}\n",
      "0.771875,0.04026280852101602 with: {'criterion': 'entropy', 'max_features': 5, 'n_estimators': 200}\n",
      "0.765625,0.03277527650531724 with: {'criterion': 'entropy', 'max_features': 5, 'n_estimators': 300}\n",
      "0.76875,0.03617449032121946 with: {'criterion': 'entropy', 'max_features': 5, 'n_estimators': 400}\n",
      "0.771875,0.03775951866748304 with: {'criterion': 'entropy', 'max_features': 5, 'n_estimators': 500}\n",
      "0.765625,0.040745015032516554 with: {'criterion': 'entropy', 'max_features': 6, 'n_estimators': 100}\n",
      "0.7625,0.03878023014372143 with: {'criterion': 'entropy', 'max_features': 6, 'n_estimators': 200}\n",
      "0.765625,0.04739297152532219 with: {'criterion': 'entropy', 'max_features': 6, 'n_estimators': 300}\n",
      "0.7625,0.04677071733467426 with: {'criterion': 'entropy', 'max_features': 6, 'n_estimators': 400}\n",
      "0.759375,0.04485218779502288 with: {'criterion': 'entropy', 'max_features': 6, 'n_estimators': 500}\n",
      "0.765625,0.040745015032516554 with: {'criterion': 'entropy', 'max_features': 7, 'n_estimators': 100}\n",
      "0.771875,0.0480071609241788 with: {'criterion': 'entropy', 'max_features': 7, 'n_estimators': 200}\n",
      "0.76875,0.03878023014372143 with: {'criterion': 'entropy', 'max_features': 7, 'n_estimators': 300}\n",
      "0.771875,0.03644344934278313 with: {'criterion': 'entropy', 'max_features': 7, 'n_estimators': 400}\n",
      "0.76875,0.03479852726768764 with: {'criterion': 'entropy', 'max_features': 7, 'n_estimators': 500}\n",
      "0.76875,0.037500000000000006 with: {'criterion': 'entropy', 'max_features': 8, 'n_estimators': 100}\n",
      "0.771875,0.04026280852101602 with: {'criterion': 'entropy', 'max_features': 8, 'n_estimators': 200}\n",
      "0.771875,0.04026280852101602 with: {'criterion': 'entropy', 'max_features': 8, 'n_estimators': 300}\n",
      "0.771875,0.04026280852101602 with: {'criterion': 'entropy', 'max_features': 8, 'n_estimators': 400}\n",
      "0.771875,0.04026280852101602 with: {'criterion': 'entropy', 'max_features': 8, 'n_estimators': 500}\n",
      "0.76875,0.05077524002897475 with: {'criterion': 'entropy', 'max_features': 9, 'n_estimators': 100}\n",
      "0.775,0.03903123748998999 with: {'criterion': 'entropy', 'max_features': 9, 'n_estimators': 200}\n",
      "0.76875,0.04571480886977435 with: {'criterion': 'entropy', 'max_features': 9, 'n_estimators': 300}\n",
      "0.775,0.0426193178030808 with: {'criterion': 'entropy', 'max_features': 9, 'n_estimators': 400}\n",
      "0.775,0.0426193178030808 with: {'criterion': 'entropy', 'max_features': 9, 'n_estimators': 500}\n",
      "0.753125,0.04352621336620038 with: {'criterion': 'entropy', 'max_features': 10, 'n_estimators': 100}\n",
      "0.759375,0.04026280852101602 with: {'criterion': 'entropy', 'max_features': 10, 'n_estimators': 200}\n",
      "0.7625,0.03336586953759785 with: {'criterion': 'entropy', 'max_features': 10, 'n_estimators': 300}\n",
      "0.775,0.03903123748998999 with: {'criterion': 'entropy', 'max_features': 10, 'n_estimators': 400}\n",
      "0.771875,0.03644344934278313 with: {'criterion': 'entropy', 'max_features': 10, 'n_estimators': 500}\n",
      "0.759375,0.02538762001448738 with: {'criterion': 'gini', 'max_features': 5, 'n_estimators': 100}\n",
      "0.76875,0.03617449032121945 with: {'criterion': 'gini', 'max_features': 5, 'n_estimators': 200}\n",
      "0.7625,0.03878023014372142 with: {'criterion': 'gini', 'max_features': 5, 'n_estimators': 300}\n",
      "0.765625,0.04307515235028194 with: {'criterion': 'gini', 'max_features': 5, 'n_estimators': 400}\n",
      "0.76875,0.0318688719599549 with: {'criterion': 'gini', 'max_features': 5, 'n_estimators': 500}\n",
      "0.759375,0.04485218779502288 with: {'criterion': 'gini', 'max_features': 6, 'n_estimators': 100}\n",
      "0.76875,0.0318688719599549 with: {'criterion': 'gini', 'max_features': 6, 'n_estimators': 200}\n",
      "0.7625,0.04238956239453293 with: {'criterion': 'gini', 'max_features': 6, 'n_estimators': 300}\n",
      "0.765625,0.04307515235028194 with: {'criterion': 'gini', 'max_features': 6, 'n_estimators': 400}\n",
      "0.76875,0.04352621336620038 with: {'criterion': 'gini', 'max_features': 6, 'n_estimators': 500}\n",
      "0.76875,0.04571480886977436 with: {'criterion': 'gini', 'max_features': 7, 'n_estimators': 100}\n",
      "0.765625,0.0369754986443726 with: {'criterion': 'gini', 'max_features': 7, 'n_estimators': 200}\n",
      "0.765625,0.035630482034348064 with: {'criterion': 'gini', 'max_features': 7, 'n_estimators': 300}\n",
      "0.775,0.03775951866748303 with: {'criterion': 'gini', 'max_features': 7, 'n_estimators': 400}\n",
      "0.775,0.0414578098794425 with: {'criterion': 'gini', 'max_features': 7, 'n_estimators': 500}\n",
      "0.771875,0.0426193178030808 with: {'criterion': 'gini', 'max_features': 8, 'n_estimators': 100}\n",
      "0.765625,0.03952847075210474 with: {'criterion': 'gini', 'max_features': 8, 'n_estimators': 200}\n",
      "0.765625,0.040745015032516554 with: {'criterion': 'gini', 'max_features': 8, 'n_estimators': 300}\n",
      "0.775,0.04485218779502289 with: {'criterion': 'gini', 'max_features': 8, 'n_estimators': 400}\n",
      "0.771875,0.0426193178030808 with: {'criterion': 'gini', 'max_features': 8, 'n_estimators': 500}\n",
      "0.775,0.06296700524878089 with: {'criterion': 'gini', 'max_features': 9, 'n_estimators': 100}\n",
      "0.775,0.050967207594687786 with: {'criterion': 'gini', 'max_features': 9, 'n_estimators': 200}\n",
      "0.775,0.05284854539152426 with: {'criterion': 'gini', 'max_features': 9, 'n_estimators': 300}\n",
      "0.78125,0.05846339666834283 with: {'criterion': 'gini', 'max_features': 9, 'n_estimators': 400}\n",
      "0.784375,0.05537514108334172 with: {'criterion': 'gini', 'max_features': 9, 'n_estimators': 500}\n",
      "0.76875,0.042389562394532926 with: {'criterion': 'gini', 'max_features': 10, 'n_estimators': 100}\n",
      "0.771875,0.053764532919016415 with: {'criterion': 'gini', 'max_features': 10, 'n_estimators': 200}\n",
      "0.784375,0.05358258812338201 with: {'criterion': 'gini', 'max_features': 10, 'n_estimators': 300}\n",
      "0.784375,0.05358258812338201 with: {'criterion': 'gini', 'max_features': 10, 'n_estimators': 400}\n",
      "0.78125,0.05229125165837972 with: {'criterion': 'gini', 'max_features': 10, 'n_estimators': 500}\n"
     ]
    }
   ],
   "source": [
    "# Summarize the results\n",
    "print('Best : {}, using {}'.format(grid_result.best_score_,grid_result.best_params_))\n",
    "means = grid_result.cv_results_['mean_test_score']\n",
    "stds = grid_result.cv_results_['std_test_score']\n",
    "params = grid_result.cv_results_['params']\n",
    "for mean, stdev, param in zip(means, stds, params):\n",
    "  print('{},{} with: {}'.format(mean, stdev, param)) "
   ]
  },
  {
   "cell_type": "markdown",
   "id": "86c06fc5",
   "metadata": {},
   "source": [
    "----------\n",
    "\n",
    "The best hyperparameters are:\n",
    "1. Number of trees - 500\n",
    "2. Criterion - GINI\n",
    "3. Maximum number of features: 9"
   ]
  },
  {
   "cell_type": "code",
   "execution_count": 36,
   "id": "7da816d6",
   "metadata": {
    "ExecuteTime": {
     "end_time": "2023-06-08T08:00:32.391724Z",
     "start_time": "2023-06-08T08:00:31.276708Z"
    }
   },
   "outputs": [
    {
     "data": {
      "text/html": [
       "<style>#sk-container-id-5 {color: black;background-color: white;}#sk-container-id-5 pre{padding: 0;}#sk-container-id-5 div.sk-toggleable {background-color: white;}#sk-container-id-5 label.sk-toggleable__label {cursor: pointer;display: block;width: 100%;margin-bottom: 0;padding: 0.3em;box-sizing: border-box;text-align: center;}#sk-container-id-5 label.sk-toggleable__label-arrow:before {content: \"▸\";float: left;margin-right: 0.25em;color: #696969;}#sk-container-id-5 label.sk-toggleable__label-arrow:hover:before {color: black;}#sk-container-id-5 div.sk-estimator:hover label.sk-toggleable__label-arrow:before {color: black;}#sk-container-id-5 div.sk-toggleable__content {max-height: 0;max-width: 0;overflow: hidden;text-align: left;background-color: #f0f8ff;}#sk-container-id-5 div.sk-toggleable__content pre {margin: 0.2em;color: black;border-radius: 0.25em;background-color: #f0f8ff;}#sk-container-id-5 input.sk-toggleable__control:checked~div.sk-toggleable__content {max-height: 200px;max-width: 100%;overflow: auto;}#sk-container-id-5 input.sk-toggleable__control:checked~label.sk-toggleable__label-arrow:before {content: \"▾\";}#sk-container-id-5 div.sk-estimator input.sk-toggleable__control:checked~label.sk-toggleable__label {background-color: #d4ebff;}#sk-container-id-5 div.sk-label input.sk-toggleable__control:checked~label.sk-toggleable__label {background-color: #d4ebff;}#sk-container-id-5 input.sk-hidden--visually {border: 0;clip: rect(1px 1px 1px 1px);clip: rect(1px, 1px, 1px, 1px);height: 1px;margin: -1px;overflow: hidden;padding: 0;position: absolute;width: 1px;}#sk-container-id-5 div.sk-estimator {font-family: monospace;background-color: #f0f8ff;border: 1px dotted black;border-radius: 0.25em;box-sizing: border-box;margin-bottom: 0.5em;}#sk-container-id-5 div.sk-estimator:hover {background-color: #d4ebff;}#sk-container-id-5 div.sk-parallel-item::after {content: \"\";width: 100%;border-bottom: 1px solid gray;flex-grow: 1;}#sk-container-id-5 div.sk-label:hover label.sk-toggleable__label {background-color: #d4ebff;}#sk-container-id-5 div.sk-serial::before {content: \"\";position: absolute;border-left: 1px solid gray;box-sizing: border-box;top: 0;bottom: 0;left: 50%;z-index: 0;}#sk-container-id-5 div.sk-serial {display: flex;flex-direction: column;align-items: center;background-color: white;padding-right: 0.2em;padding-left: 0.2em;position: relative;}#sk-container-id-5 div.sk-item {position: relative;z-index: 1;}#sk-container-id-5 div.sk-parallel {display: flex;align-items: stretch;justify-content: center;background-color: white;position: relative;}#sk-container-id-5 div.sk-item::before, #sk-container-id-5 div.sk-parallel-item::before {content: \"\";position: absolute;border-left: 1px solid gray;box-sizing: border-box;top: 0;bottom: 0;left: 50%;z-index: -1;}#sk-container-id-5 div.sk-parallel-item {display: flex;flex-direction: column;z-index: 1;position: relative;background-color: white;}#sk-container-id-5 div.sk-parallel-item:first-child::after {align-self: flex-end;width: 50%;}#sk-container-id-5 div.sk-parallel-item:last-child::after {align-self: flex-start;width: 50%;}#sk-container-id-5 div.sk-parallel-item:only-child::after {width: 0;}#sk-container-id-5 div.sk-dashed-wrapped {border: 1px dashed gray;margin: 0 0.4em 0.5em 0.4em;box-sizing: border-box;padding-bottom: 0.4em;background-color: white;}#sk-container-id-5 div.sk-label label {font-family: monospace;font-weight: bold;display: inline-block;line-height: 1.2em;}#sk-container-id-5 div.sk-label-container {text-align: center;}#sk-container-id-5 div.sk-container {/* jupyter's `normalize.less` sets `[hidden] { display: none; }` but bootstrap.min.css set `[hidden] { display: none !important; }` so we also need the `!important` here to be able to override the default hidden behavior on the sphinx rendered scikit-learn.org. See: https://github.com/scikit-learn/scikit-learn/issues/21755 */display: inline-block !important;position: relative;}#sk-container-id-5 div.sk-text-repr-fallback {display: none;}</style><div id=\"sk-container-id-5\" class=\"sk-top-container\"><div class=\"sk-text-repr-fallback\"><pre>RandomForestClassifier(max_features=9, n_estimators=500, random_state=42)</pre><b>In a Jupyter environment, please rerun this cell to show the HTML representation or trust the notebook. <br />On GitHub, the HTML representation is unable to render, please try loading this page with nbviewer.org.</b></div><div class=\"sk-container\" hidden><div class=\"sk-item\"><div class=\"sk-estimator sk-toggleable\"><input class=\"sk-toggleable__control sk-hidden--visually\" id=\"sk-estimator-id-5\" type=\"checkbox\" checked><label for=\"sk-estimator-id-5\" class=\"sk-toggleable__label sk-toggleable__label-arrow\">RandomForestClassifier</label><div class=\"sk-toggleable__content\"><pre>RandomForestClassifier(max_features=9, n_estimators=500, random_state=42)</pre></div></div></div></div></div>"
      ],
      "text/plain": [
       "RandomForestClassifier(max_features=9, n_estimators=500, random_state=42)"
      ]
     },
     "execution_count": 36,
     "metadata": {},
     "output_type": "execute_result"
    }
   ],
   "source": [
    "num_trees = 500\n",
    "max_features = 9\n",
    "model = RandomForestClassifier(n_estimators=num_trees, max_features=max_features, criterion='gini', random_state = 42)\n",
    "model.fit(x_train, y_train)"
   ]
  },
  {
   "cell_type": "code",
   "execution_count": 37,
   "id": "cc4660e8",
   "metadata": {
    "ExecuteTime": {
     "end_time": "2023-06-08T08:00:34.150820Z",
     "start_time": "2023-06-08T08:00:34.060080Z"
    }
   },
   "outputs": [
    {
     "data": {
      "text/plain": [
       "Low Sales     40\n",
       "High Sales    40\n",
       "dtype: int64"
      ]
     },
     "execution_count": 37,
     "metadata": {},
     "output_type": "execute_result"
    }
   ],
   "source": [
    "#Predicting on test data\n",
    "preds = model.predict(x_test) # predicting on test data set \n",
    "pd.Series(preds).value_counts() # getting the count of each category "
   ]
  },
  {
   "cell_type": "code",
   "execution_count": 38,
   "id": "0611972d",
   "metadata": {
    "ExecuteTime": {
     "end_time": "2023-06-08T08:00:35.256574Z",
     "start_time": "2023-06-08T08:00:35.236595Z"
    }
   },
   "outputs": [
    {
     "data": {
      "text/plain": [
       "0.8375"
      ]
     },
     "execution_count": 38,
     "metadata": {},
     "output_type": "execute_result"
    }
   ],
   "source": [
    "# Accuracy \n",
    "np.mean(preds==y_test)"
   ]
  },
  {
   "cell_type": "markdown",
   "id": "5f2437cf",
   "metadata": {},
   "source": [
    "## Using other ensemble methods"
   ]
  },
  {
   "cell_type": "markdown",
   "id": "6c84c7ff",
   "metadata": {},
   "source": [
    "## Bagging classifier"
   ]
  },
  {
   "cell_type": "code",
   "execution_count": 42,
   "id": "2da25b8e",
   "metadata": {
    "ExecuteTime": {
     "end_time": "2023-06-08T09:16:11.485684Z",
     "start_time": "2023-06-08T09:15:42.286858Z"
    }
   },
   "outputs": [
    {
     "name": "stdout",
     "output_type": "stream",
     "text": [
      "Accruacy - 0.8225\n"
     ]
    }
   ],
   "source": [
    "from sklearn.model_selection import cross_val_score\n",
    "from sklearn.ensemble import BaggingClassifier\n",
    "from sklearn.tree import DecisionTreeClassifier\n",
    "import warnings\n",
    "warnings.filterwarnings('ignore')\n",
    "\n",
    "kfold = KFold(n_splits=10, random_state=42, shuffle = True)\n",
    "cart = DecisionTreeClassifier()\n",
    "num_trees = 500\n",
    "model = BaggingClassifier(base_estimator=cart, n_estimators=num_trees, random_state=None)\n",
    "results = cross_val_score(model, x, y, cv=kfold)\n",
    "print(\"Accruacy -\", results.mean())"
   ]
  },
  {
   "cell_type": "markdown",
   "id": "6df99c3e",
   "metadata": {},
   "source": [
    "## AdaBoost Ensemble"
   ]
  },
  {
   "cell_type": "code",
   "execution_count": 43,
   "id": "d1662077",
   "metadata": {
    "ExecuteTime": {
     "end_time": "2023-06-08T09:16:35.172938Z",
     "start_time": "2023-06-08T09:16:14.450305Z"
    }
   },
   "outputs": [
    {
     "name": "stdout",
     "output_type": "stream",
     "text": [
      "Accuracy - 0.85\n"
     ]
    }
   ],
   "source": [
    "from sklearn.ensemble import AdaBoostClassifier\n",
    "\n",
    "num_trees = 500\n",
    "kfold = KFold(n_splits=10, random_state=42, shuffle = True)\n",
    "model = AdaBoostClassifier(n_estimators=num_trees, random_state=42)\n",
    "results = cross_val_score(model, x, y, cv=kfold)\n",
    "print(\"Accuracy -\", results.mean())"
   ]
  },
  {
   "cell_type": "markdown",
   "id": "b8b0eebf",
   "metadata": {},
   "source": [
    "## Stacking with Logistic, Decision Tree, and SVC"
   ]
  },
  {
   "cell_type": "code",
   "execution_count": 44,
   "id": "6c25e8e5",
   "metadata": {
    "ExecuteTime": {
     "end_time": "2023-06-08T09:17:17.866164Z",
     "start_time": "2023-06-08T09:17:15.854593Z"
    }
   },
   "outputs": [
    {
     "name": "stdout",
     "output_type": "stream",
     "text": [
      "Accuracy - 0.8375\n"
     ]
    }
   ],
   "source": [
    "from sklearn.linear_model import LogisticRegression\n",
    "from sklearn.tree import DecisionTreeClassifier\n",
    "from sklearn.svm import SVC\n",
    "from sklearn.ensemble import VotingClassifier\n",
    "\n",
    "kfold = KFold(n_splits=10, random_state=42, shuffle = True)\n",
    "\n",
    "# create the sub models\n",
    "estimators = []\n",
    "model1 = LogisticRegression(max_iter=500)\n",
    "estimators.append(('logistic', model1))\n",
    "model2 = DecisionTreeClassifier()\n",
    "estimators.append(('cart', model2))\n",
    "model3 = SVC()\n",
    "estimators.append(('svm', model3))\n",
    "\n",
    "# create the ensemble model\n",
    "ensemble = VotingClassifier(estimators)\n",
    "results = cross_val_score(ensemble, x, y, cv=kfold)\n",
    "print(\"Accuracy -\", results.mean())"
   ]
  },
  {
   "cell_type": "code",
   "execution_count": null,
   "id": "f44915a4",
   "metadata": {},
   "outputs": [],
   "source": []
  }
 ],
 "metadata": {
  "kernelspec": {
   "display_name": "Python 3 (ipykernel)",
   "language": "python",
   "name": "python3"
  },
  "language_info": {
   "codemirror_mode": {
    "name": "ipython",
    "version": 3
   },
   "file_extension": ".py",
   "mimetype": "text/x-python",
   "name": "python",
   "nbconvert_exporter": "python",
   "pygments_lexer": "ipython3",
   "version": "3.10.9"
  },
  "varInspector": {
   "cols": {
    "lenName": 16,
    "lenType": 16,
    "lenVar": 40
   },
   "kernels_config": {
    "python": {
     "delete_cmd_postfix": "",
     "delete_cmd_prefix": "del ",
     "library": "var_list.py",
     "varRefreshCmd": "print(var_dic_list())"
    },
    "r": {
     "delete_cmd_postfix": ") ",
     "delete_cmd_prefix": "rm(",
     "library": "var_list.r",
     "varRefreshCmd": "cat(var_dic_list()) "
    }
   },
   "types_to_exclude": [
    "module",
    "function",
    "builtin_function_or_method",
    "instance",
    "_Feature"
   ],
   "window_display": false
  }
 },
 "nbformat": 4,
 "nbformat_minor": 5
}
